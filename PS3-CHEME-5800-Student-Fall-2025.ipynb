{
 "cells": [
  {
   "cell_type": "markdown",
   "id": "790f78be",
   "metadata": {},
   "source": [
    "# PS3: Primal and Dual Flux Balance Analysis of the Urea Cycle in HL-60 Cells\n",
    "The [urea cycle](https://www.kegg.jp/pathway/hsa00220) is a crucial metabolic pathway that converts toxic ammonia into urea for excretion. While the urea cycle's role in [HL-60 cells, a human promyelocytic leukemia cell line](https://www.atcc.org/products/ccl-240?matchtype=b&network=g&device=c&adposition=&keyword=hl60%20cell%20line%20atcc&gad_source=1&gbraid=0AAAAADR6fpoOXsp8U8fXLd_E6sLTcwv24&gclid=CjwKCAiA5eC9BhAuEiwA3CKwQm0C1oE5_JjTpJ24VnTjZUZQVLivpPxmufDo7HdH5v3hN1XKnEf3ExoCvhwQAvD_BwE), is not directly established, these cells exhibit alterations in protein levels and proliferation rates when exposed to various compounds, which may indirectly affect nitrogen metabolism and related pathways.\n",
    "\n",
    "In this lab, we will explore a simplified model of the urea cycle in HL-60 cells using flux balance analysis (FBA). [Flux balance analysis (FBA)](https://pubmed.ncbi.nlm.nih.gov/20212490/) enables researchers to _estimate_ metabolic fluxes and optimize cellular metabolism, providing insights into biological systems' operation without requiring extensive kinetic parameter information. \n",
    "\n",
    "__Reference:__\n",
    "[Orth JD, Thiele I, Palsson BØ. What is flux balance analysis? Nat Biotechnol. 2010 Mar;28(3):245-8. doi: 10.1038/nbt.1614. PMID: 20212490; PMCID: PMC3108565](https://pubmed.ncbi.nlm.nih.gov/20212490/)\n",
    "\n",
    "> __Learning Objectives:__\n",
    ">\n",
    "> By the end of this lab, you should be able to:\n",
    "> - __Primal flux balance analysis (FBA)__: Understand the principles of flux balance analysis and how to formulate it as a linear programming problem, including estimation of reaction parameters using biological databases like eQuilibrator and BRENDA.\n",
    "> - __Dual optimization theory__: Learn to formulate and solve the dual problem associated with flux balance analysis, understanding the mathematical relationship between primal and dual solutions in metabolic optimization.\n",
    "> - __Metabolic bottleneck analysis__: Analyze both primal and dual FBA results to interpret metabolic fluxes, identify rate-limiting steps through dual variable analysis, and evaluate system behavior under different constraints.\n",
    "\n",
    "FBA is a very important tool in systems biology and metabolic engineering. It's also a clever application of linear programming. Let's get started!\n",
    "___"
   ]
  },
  {
   "cell_type": "markdown",
   "id": "db49042a",
   "metadata": {},
   "source": [
    "## Motivation\n",
    "[Flux balance analysis (FBA)](https://pubmed.ncbi.nlm.nih.gov/20212490/) enables researchers to _estimate_ metabolic fluxes and optimize cellular metabolism, providing insights into biological systems' operation without requiring extensive kinetic parameter information. FBA can operate in data-rich and data-poor situations.\n",
    "* __Structure__. The flux balance analysis problem is a linear program composed of an objective (what we are trying to optimize), constraints (the rules of the world, in our case material balances), and bounds (limits on the decision variables). It returns the optimal values for the reaction rates in a system (metabolic fluxes).\n",
    "* __Integration__. Flux balance analysis integrates measurement data (extracellular uptake, intracellular omics, etc.) using a model of the global operation of a cell. FBA provides a _snapshot_ of the state of a system. While more data enhances realism, FBA has low data requirements.\n",
    "\n",
    "Flux balance analysis (FBA) has some _perceived_ limitations.\n",
    "* __Not unique__. FBA does not specify fluxes in a metabolic network uniquely, as regulatory mechanisms affecting enzyme kinetics and expression influence the chosen flux distribution, resulting in multiple potential flux solutions for an optimal state. This limitation is __major__ (and true).\n",
    "* __Not dynamic__. FBA cannot model dynamic metabolic behavior due to its steady-state assumption, limiting its ability to capture temporal changes. However, [we can adapt FBA to be approximately dynamic](https://pmc.ncbi.nlm.nih.gov/articles/PMC1302231/), making this limitation minor.\n",
    "* __No regulation__. FBA may conflict with experimental data, especially when regulatory loops are excluded. These discrepancies reveal the limitations of relying only on stoichiometric information without considering complex cellular regulation. This can be fixed with [regulatory flux balance analysis](https://pubmed.ncbi.nlm.nih.gov/11708855/). Gene expression is _easy(ish)_, but allosteric regulation (activity) is hard.\n",
    "\n",
    "Example FBA publications:\n",
    "* [Edwards JS, Ibarra RU, Palsson BO. In silico predictions of Escherichia coli metabolic capabilities are consistent with experimental data. Nat Biotechnol. 2001 Feb;19(2):125-30. doi: 10.1038/84379. PMID: 11175725.](https://pubmed.ncbi.nlm.nih.gov/11175725/)\n",
    "* [Vilkhovoy M, Horvath N, Shih CH, Wayman JA, Calhoun K, Swartz J, Varner JD. Sequence-Specific Modeling of E. coli Cell-Free Protein Synthesis. ACS Synth Biol. 2018 Aug 17;7(8):1844-1857. doi: 10.1021/acssynbio.7b00465. Epub 2018 Jul 16. PMID: 29944340.](https://pubmed.ncbi.nlm.nih.gov/29944340/)\n",
    "* [Tan ML, Jenkins-Johnston N, Huang S, Schutrum B, Vadhin S, Adhikari A, Williams RM, Zipfel WR, Lammerding J, Varner JD, Fischbach C. Endothelial cells metabolically regulate breast cancer invasion toward a microvessel. APL Bioeng. 2023 Dec 4;7(4):046116. doi: 10.1063/5.0171109. PMID: 38058993; PMCID: PMC10697723.](https://pubmed.ncbi.nlm.nih.gov/38058993/)\n",
    "\n",
    "___"
   ]
  },
  {
   "cell_type": "markdown",
   "id": "dadebf9b",
   "metadata": {},
   "source": [
    "## Background\n",
    "Flux balance analysis (FBA) is a mathematical approach used to analyze the flow of metabolites through a metabolic network. It assumes a steady state where metabolite production, consumption, and transport rates are balanced.\n",
    "\n",
    "> To formulate the FBA problem, we first define the key sets and variables:\n",
    ">- $\\mathcal{R}$: the set of biochemical reactions in the network.\n",
    ">- $\\mathcal{M}$: the set of chemical species (metabolites) involved in the reactions.\n",
    ">- $\\hat{v}_i$: the flux (rate) through reaction $i \\in \\mathcal{R}$, which we want to estimate.\n",
    ">- $c_i$: the objective coefficient for reaction $i$, chosen by the user to define what to optimize (e.g., maximize or minimize).\n",
    "\n",
    "The FBA problem is formulated as a linear programming (LP) problem to maximize or minimize fluxes through the network, subject to constraints. The linear program is:\n",
    "$$\n",
    "\\boxed{\n",
    "\\begin{align*}\n",
    "\\max_{\\hat{v}}\\quad&  \\sum_{i\\in\\mathcal{R}}c_{i}\\hat{v}_{i}\\\\\n",
    "\\text{subject to}\\quad & \\sum_{j\\in\\mathcal{R}}\\sigma_{ij}\\hat{v}_{j} = 0\\qquad\\forall{i\\in\\mathcal{M}}\\\\\n",
    "& \\mathcal{L}_{j}\\leq\\hat{v}_{j}\\leq\\mathcal{U}_{j}\\qquad\\forall{j\\in\\mathcal{R}}\n",
    "\\end{align*}}\n",
    "$$\n",
    "Here, $\\sigma_{ij}$ are elements of the stoichiometric matrix $\\mathbf{S}$, and $\\mathcal{L}_{j}$ and $\\mathcal{U}_{j}$ are the lower and upper flux bounds for reaction $j$, respectively. Buried in the material constraints, there are many assumptions. To see where these material balance constraints come from, see the [derivation notebook](./CHEME-5800-L6b-Derivation-Constraints-FBA-Fall-2025.ipynb).\n",
    "\n",
    "### Constraints: Stoichiometric matrix\n",
    "Suppose we have a set of biochemical reactions $\\mathcal{R}$ involving chemical species (metabolite) set $\\mathcal{M}$. Then, the stoichiometric matrix is a $\\mathbf{S}\\in\\mathbb{R}^{|\\mathcal{M}|\\times|\\mathcal{R}|}$ matrix, where $|\\mathcal{M}|$ denotes the number of chemical species and $|\\mathcal{R}|$ denotes the number of reactions. The elements of the stoichiometric matrix $\\sigma_{ij}\\in\\mathbf{S}$ are stoichiometric coefficients such that:\n",
    "* $\\sigma_{ij}>0$: Chemical species (metabolite) $i$ is _produced_ by reaction $j$. Species $i$ is a product of reaction $j$.\n",
    "* $\\sigma_{ij} = 0$: Chemical species (metabolite) $i$ is not connected with reaction $j$.\n",
    "* $\\sigma_{ij}<0$: Chemical species (metabolite) $i$ is _consumed_ by reaction $j$. Species $i$ is a reactant of reaction $j$.\n",
    "\n",
    "The stoichiometric matrix $\\mathbf{S}$ is the digital representation of the biochemistry occurring inside some volume, i.e., inside the cell, in a test tube in the case of cell-free systems, or some abstract volume such as a compartment or pseudocompartment of interest.\n",
    "\n",
    "### Bounds: Models for flux bounds\n",
    "The flux bounds $\\mathcal{L}_j$ and $\\mathcal{U}_j$ are important constraints in flux balance analysis calculations and the convex decomposition of the stoichiometric matrix. Beyond their role in the flux estimation problem, the flux bounds are _integrative_, i.e., these constraints integrate many types of genetic and biochemical information into the problem. \n",
    "\n",
    "A general model for these bounds is given by:\n",
    "$$\n",
    "\\begin{align*}\n",
    "-\\delta_{j}\\left[{V_{max,j}^{\\circ}}\\left(\\frac{e}{e^{\\circ}}\\right)\\theta_{j}\\left(\\dots\\right){f_{j}\\left(\\dots\\right)}\\right]\\leq\\hat{v}_{j}\\leq{V_{max,j}^{\\circ}}\\left(\\frac{e}{e^{\\circ}}\\right)\\theta_{j}\\left(\\dots\\right){f_{j}\\left(\\dots\\right)}\n",
    "\\end{align*}\n",
    "$$\n",
    "where:\n",
    "- $V_{max,j}^{\\circ}$ denotes the maximum reaction velocity (units: flux) computed at some _characteristic enzyme abundance_.\n",
    "- $e$ is the actual enzyme abundance, and $e^{\\circ}$ is the characteristic enzyme abundance (units: concentration).\n",
    "- $\\theta_{j}(\\dots) \\in [0,1]$ is the current fraction of maximal enzyme activity for the enzyme in reaction $j$, describing [allosteric effects](https://en.wikipedia.org/wiki/Allosteric_regulation).\n",
    "- $f_j(\\dots)$ is a function describing the substrate dependence of the reaction rate (units: dimensionless).\n",
    "- $\\delta_j \\in \\{0,1\\}$ is the binary direction parameter indicating reversibility: $\\delta_j = 1$ if reaction $j$ is reversible, $\\delta_j = 0$ if irreversible.\n",
    "\n",
    "Thus, the maximum reaction velocity is given by:\n",
    "$$\n",
    "V_{max,j}^{\\circ} = k_{cat,j}^{\\circ} e^{\\circ}\n",
    "$$\n",
    "where $k_{cat,j}$ is the catalytic constant or turnover number for the enzyme (units: 1/time).\n",
    "\n",
    "> __Parameters__: In general, we need estimates for the $k_{cat,j}^{\\circ}$ for all enzymes in the system and a _reasonable policy_ for specifying a characteristic value for $e^{\\circ}$. In addition, the $\\theta_{j}(\\dots)$ and $f_{j}(\\dots)$ models can also have associated parameters, e.g., saturation or binding constants, etc. Thus, we need to estimate these from literature studies or experimental data.\n",
    "\n",
    "Let's simplify this model to estimate the flux bounds for our urea cycle model.\n",
    "\n",
    "### Simplified Bounds Model\n",
    "In this lab, we will use a simplified bounds model to estimate the flux bounds.\n",
    "We assume that $(e/e^{\\circ}) \\sim 1$, there are no allosteric effects $\\theta_{j}(\\dots) \\sim 1$, and the substrates are saturating $f_{j}(\\dots) \\sim 1$.\n",
    "Then, the flux bounds are given by:\n",
    "$$\n",
    "\\begin{align*}\n",
    "-\\delta_{j} V_{max,j}^{\\circ} \\leq \\hat{v}_{j} \\leq V_{max,j}^{\\circ}\n",
    "\\end{align*}\n",
    "$$\n",
    "We can see that the flux bounds are a function of the maximum reaction velocity, the catalytic constant or turnover number, and our assumed value for the characteristic enzyme abundance.\n",
    "\n",
    "___"
   ]
  },
  {
   "cell_type": "markdown",
   "id": "310d4171",
   "metadata": {},
   "source": [
    "## Setup, Data, and Prerequisites\n",
    "First, we set up the computational environment by including the `Include.jl` file and loading any needed resources.\n",
    "\n",
    "> __Include:__ The [include command](https://docs.julialang.org/en/v1/base/base/#include) evaluates the contents of the input source file, `Include.jl`, in the notebook's global scope. The `Include.jl` file sets paths, loads required external packages, and more. For additional information on functions and types used in this material, see the [Julia programming language documentation](https://docs.julialang.org/en/v1/). \n",
    "\n",
    "Let's set up our environment:"
   ]
  },
  {
   "cell_type": "code",
   "execution_count": 1,
   "id": "a1017092",
   "metadata": {},
   "outputs": [],
   "source": [
    "include(joinpath(@__DIR__, \"Include.jl\"));"
   ]
  },
  {
   "cell_type": "markdown",
   "id": "95fd5c70",
   "metadata": {},
   "source": [
    "<div>\n",
    "    <center>\n",
    "        <img src=\"figs/Fig-Urea-cycle-Schematic.png\" width=\"680\"/>\n",
    "    </center>\n",
    "</div>"
   ]
  },
  {
   "cell_type": "markdown",
   "id": "c81125f7",
   "metadata": {},
   "source": [
    "### Build the model\n",
    "\n",
    "To store all the problem data, we created [the `MyPrimalFluxBalanceAnalysisCalculationModel` type](src/Types.jl). Let's build one of these objects for our problem and store it in the `model::MyPrimalFluxBalanceAnalysisCalculationModel` variable. We also return the `rd::Dict{String, String}` dictionary, which maps the reaction name field (key) to the reaction string (value).\n",
    "\n",
    "> __Builder (or factory) pattern__: For all custom types that we make, we'll use something like [the builder software pattern](https://en.wikipedia.org/wiki/Builder_pattern) to construct and initialize these objects. The calling syntax will be the same for all types: [a `build(...)` method](src/Factory.jl) will take the kind of thing we want to build in the first argument, and the data needed to make that type as [a `NamedTuple` instance](https://docs.julialang.org/en/v1/base/base/#Core.NamedTuple) in the second argument.\n",
    "\n",
    "Let's build our model:"
   ]
  },
  {
   "cell_type": "code",
   "execution_count": 2,
   "id": "160d0624",
   "metadata": {},
   "outputs": [],
   "source": [
    "primal_model, rd = let\n",
    "\n",
    "    # first, load the reaction file and process it\n",
    "    list_of_reactions = read_reaction_file(joinpath(_PATH_TO_DATA, \"Network.net\")); # load the reactions from the VFF reaction file\n",
    "    S, species, reactions, rd = build_stoichiometric_matrix(list_of_reactions); # Builds the stoichiometric matrix, species list, and the reactions list\n",
    "    bounds_array = build_default_bounds_array(list_of_reactions); # Builds a default bounds model using the flat file flags\n",
    "\n",
    "    # build the FBA model -\n",
    "    model = build(MyPrimalFluxBalanceAnalysisCalculationModel, (\n",
    "        S = S, # stoichiometric matrix\n",
    "        fluxbounds = bounds_array, # these are the *default* bounds, we'll need to update with new info if we have it\n",
    "        species = species, # list of species. The rows of S are in this order\n",
    "        reactions = reactions, # list of reactions. The cols of S are in this order\n",
    "        objective = length(reactions) |> R -> zeros(R), # this is empty, we'll need to set this\n",
    "    ));\n",
    "\n",
    "    # return -\n",
    "    model, rd\n",
    "end;"
   ]
  },
  {
   "cell_type": "code",
   "execution_count": 3,
   "id": "a6371ef2",
   "metadata": {},
   "outputs": [
    {
     "data": {
      "text/plain": [
       "Dict{String, String} with 19 entries:\n",
       "  \"v4\"  => \"M_Carbamoyl_phosphate_c+M_L-Ornithine_c = M_Orthophosphate_c+M_L-Ci…\n",
       "  \"v5\"  => \"2*M_L-Arginine_c+4*M_Oxygen_c+3*M_NADPH_c+3*M_H_c = 2*M_Nitric_oxid…\n",
       "  \"v1\"  => \"M_ATP_c+M_L-Citrulline_c+M_L-Aspartate_c = M_AMP_c+M_Diphosphate_c+…\n",
       "  \"b12\" => \"[] = M_Nitric_oxide_c\"\n",
       "  \"b2\"  => \"[] = M_L-Aspartate_c\"\n",
       "  \"b14\" => \"[] = M_H2O_c\"\n",
       "  \"b8\"  => \"[] = M_Orthophosphate_c\"\n",
       "  \"b11\" => \"[] = M_H_c\"\n",
       "  \"v3\"  => \"M_L-Arginine_c+M_H2O_c = M_L-Ornithine_c+M_Urea_c\"\n",
       "  \"b7\"  => \"[] = M_Diphosphate_c\"\n",
       "  \"b9\"  => \"[] = M_Oxygen_c\"\n",
       "  \"b3\"  => \"[] = M_Fumarate_c\"\n",
       "  \"b5\"  => \"[] = M_ATP_c\"\n",
       "  \"b10\" => \"[] = M_NADPH_c\"\n",
       "  \"v2\"  => \"M_N-(L-Arginino)succinate_c = M_Fumarate_c+M_L-Arginine_c\"\n",
       "  \"b4\"  => \"[] = M_Urea_c\"\n",
       "  \"b6\"  => \"[] = M_AMP_c\"\n",
       "  \"b13\" => \"[] = M_NADP_c\"\n",
       "  \"b1\"  => \"[] = M_Carbamoyl_phosphate_c\""
      ]
     },
     "metadata": {},
     "output_type": "display_data"
    }
   ],
   "source": [
    "rd # let's look at the reaction dictionary"
   ]
  },
  {
   "cell_type": "markdown",
   "id": "4ad828bc",
   "metadata": {},
   "source": [
    "___"
   ]
  },
  {
   "cell_type": "markdown",
   "id": "4421eef6",
   "metadata": {},
   "source": [
    "## Task 1: Formulate the Flux Bounds Array\n",
    "In this task, we formulate the flux bounds array. The flux bounds are important constraints in flux balance analysis calculations and the convex decomposition of the stoichiometric matrix. Beyond their role in the flux estimation problem, the flux bounds are _integrative_, i.e., these constraints integrate many types of genetic and biochemical information into the problem. \n",
    "\n",
    "First, let's estimate the reversibility parameter $\\delta_{j}$ for each of the five enzyme-catalyzed reactions in our model of the urea cycle using [eQuilibrator](https://equilibrator.weizmann.ac.il).\n",
    "* [Beber ME, Gollub MG, Mozaffari D, Shebek KM, Flamholz AI, Milo R, Noor E. eQuilibrator 3.0: a database solution for thermodynamic constant estimation. Nucleic Acids Res. 2022 Jan 7;50(D1): D603-D609. doi: 10.1093/nar/gkab1106. PMID: 34850162; PMCID: PMC8728285.](https://pubmed.ncbi.nlm.nih.gov/34850162/)\n",
    "\n",
    "`TODO`: Fill in the missing elements in the code block below to complete this task; when using [eQuilibrator](https://equilibrator.weizmann.ac.il), use the EC prefix, i.e., `EC 6.3.4.5` and the mitochondrial (superscript `m`) values.\n",
    "\n",
    "Store the results of this analysis in the `reversibility_parameter_dictionary::Dict{String, Int}` dictionary, which maps the reaction name field (key) to the estimated reversibility parameter (value). Use a $\\Delta\\bar{G}$ threshold value (hyperparameter) of -10.0 kJ/mol to determine the reversibility of the reactions."
   ]
  },
  {
   "cell_type": "code",
   "execution_count": 4,
   "id": "279a2b8f",
   "metadata": {},
   "outputs": [],
   "source": [
    "reversibility_parameter_dictionary = let\n",
    "\n",
    "    # alias the model for clarity\n",
    "    model = primal_model; \n",
    "\n",
    "    # initialize -\n",
    "    ΔḠ = -10.0; # threshold value, units: kJ/mol -\n",
    "    names = model.reactions; # get an array of the names of the reactions (includes exchange)\n",
    "    reversibility_parameter_dictionary = Dict{String, Int}();\n",
    "\n",
    "    # TODO: build a ΔG array for the reactions in the model\n",
    "    ΔG = [\n",
    "        -4.3 ; # 1 v₁ EC 6.3.4.5 value: -4.3 ± 2.9 kJ/mol\n",
    "        -5.5 ; # 2 v₂ EC 4.3.2.1 value: -5.5 ± 5.7 kJ/mol\n",
    "        -51.0 ; # 3 v₃ EC 3.5.3.1 value: -51 ± 12.4 kJ/mol\n",
    "        -30.3 ; # 4 v₄ EC 2.1.3.3 value: -30.3 ± 5.7 kJ/mol\n",
    "        -1220.2 ; # 5 v₅ EC 1.15.13.39 value: -1220.2 ± 29.6 kJ/mol # TODO: DQ2 What if this was +1210?\n",
    "    ];\n",
    "\n",
    "    # compute loop -\n",
    "    for i ∈ eachindex(names)\n",
    "        name = names[i]; # get the reaction name for reaction i -\n",
    "\n",
    "        # check: do we have an exchange flux? If so: skip\n",
    "        if (contains(name, \"b\") == true)\n",
    "            continue;\n",
    "        end\n",
    "        \n",
    "        ΔGᵢ = ΔG[i]; # get the ΔG value for reaction i -\n",
    "        \n",
    "        # compute\n",
    "        δᵢ = sign(ΔGᵢ -  ΔḠ) == 1 ? 1 : 0 # ternary operator: if sign(ΔΔG) == 1 then reversible (1), else irreversible (0)\n",
    "        \n",
    "        # store -\n",
    "        reversibility_parameter_dictionary[name] = δᵢ; # stores the reversibility parameter with key name\n",
    "    end\n",
    "\n",
    "    \n",
    "    # return -\n",
    "    reversibility_parameter_dictionary;\n",
    "end;"
   ]
  },
  {
   "cell_type": "markdown",
   "id": "72f0bfd3",
   "metadata": {},
   "source": [
    "### Estimate the maximum reaction velocity $V_{max,j}^{\\circ}$ for reaction $j$\n",
    "Next, we'll estimate the maximum reaction velocity $V_{max,j}^{\\circ}$ for each of the 5 enzyme-catalyzed reactions in our model of the Urea cycle using [BRENDA](https://www.brenda-enzymes.org/):\n",
    "* [Antje Chang et al., BRENDA, the ELIXIR core data resource in 2021: new developments and updates, Nucleic Acids Research, Volume 49, Issue D1, 8 January 2021, Pages D498–D508, https://doi.org/10.1093/nar/gkaa1025](https://academic.oup.com/nar/article/49/D1/D498/5992283)\n",
    "\n",
    "Assume the characteristic enzyme abundance $e^{\\circ}\\simeq$ 0.01 `mmol/gDW` for all reactions. For missing turnover numbers, use a characteristic value of $k_{cat,j}^{\\circ}\\simeq$ 10 `1/s`. Store the results of this analysis in the `maximum_reaction_velocity_dictionary::Dict{String, Float64}` dictionary, which maps the reaction name field (key) to the estimated maximum reaction velocity (value). \n",
    "\n",
    "`TODO`: Fill in the missing elements in the code block below to complete this task:"
   ]
  },
  {
   "cell_type": "code",
   "execution_count": 5,
   "id": "1734e86e",
   "metadata": {},
   "outputs": [],
   "source": [
    "maximum_reaction_velocity_dictionary = let\n",
    "\n",
    "    # alias the model for clarity\n",
    "    model = primal_model;\n",
    "\n",
    "    # initialize -\n",
    "    eₒ = 0.01; # characteristic enzyme abundance units: mmol/gDW\n",
    "    kₒ = 10.0; # characteristic turnover rate units: 1/s (use this if we don't have a specific value from BRENDA)\n",
    "    names = model.reactions; # get an array of the names of the reactions (includes exchange)\n",
    "    maximum_reaction_velocity_dictionary = Dict{String, Float64}();\n",
    "\n",
    "    # TODO: **Update** the kcat array for the reactions in the model with values from BRENDA\n",
    "    kcat = [\n",
    "        kₒ ; # 1 v₁ EC 6.3.4.5 No value, use default\n",
    "        3.28 ; # 2 v₂ EC 4.3.2.1 value: 3.28 1/s\n",
    "        190.0 ; # 3 v₃ EC 3.5.3.1 value: 190 1/s\n",
    "        410.0 ; # 4 v₄ EC 2.1.3.3 value: 410 1/s (E. coli value)\n",
    "        kₒ ; # 5 v₅ EC 1.15.13.39 No value, use default\n",
    "    ];\n",
    "\n",
    "    # compute loop -\n",
    "    for i ∈ eachindex(names)\n",
    "        name = names[i]; # get the reaction name for reaction i -\n",
    "\n",
    "        # check: do we have an exchange flux? If so: skip\n",
    "        if (contains(name, \"b\") == true)\n",
    "            continue;\n",
    "        end\n",
    "        \n",
    "        # compute the VMaxᵢ -\n",
    "        VMaxᵢ = kcat[i]*eₒ;\n",
    "\n",
    "        # store -\n",
    "        maximum_reaction_velocity_dictionary[name] = VMaxᵢ; # stores the VMax with key name\n",
    "    end\n",
    "    \n",
    "    # return -\n",
    "    maximum_reaction_velocity_dictionary;\n",
    "end;"
   ]
  },
  {
   "cell_type": "markdown",
   "id": "6a2e6982",
   "metadata": {},
   "source": [
    "Let's make a table that holds the Vmax and reversibility parameter for each reaction in our model:"
   ]
  },
  {
   "cell_type": "code",
   "execution_count": 6,
   "id": "dd09d021",
   "metadata": {},
   "outputs": [
    {
     "name": "stdout",
     "output_type": "stream",
     "text": [
      " ---------- --------- --------------\n",
      " \u001b[1m Reaction \u001b[0m \u001b[1m    VMax \u001b[0m \u001b[1m isreversible \u001b[0m\n",
      " \u001b[90m   String \u001b[0m \u001b[90m Float64 \u001b[0m \u001b[90m         Bool \u001b[0m\n",
      " ---------- --------- --------------\n",
      "        v1       0.1           true\n",
      "        v2    0.0328           true\n",
      "        v3       1.9          false\n",
      "        v4       4.1          false\n",
      "        v5       0.1          false\n",
      " ---------- --------- --------------\n"
     ]
    }
   ],
   "source": [
    "let\n",
    "\n",
    "    # initialize -\n",
    "    df = DataFrame();\n",
    "    sorted_reaction_names = maximum_reaction_velocity_dictionary |> keys |> collect |> sort; # get the keys and sort them\n",
    "\n",
    "    for name ∈ sorted_reaction_names\n",
    "        VMax = maximum_reaction_velocity_dictionary[name]; # get the VMax value\n",
    "        push!(df, (\n",
    "            Reaction = name, \n",
    "            VMax = VMax,\n",
    "            isreversible = reversibility_parameter_dictionary[name] == 1 ? true : false, # ternary operator\n",
    "        )); # push to the dataframe\n",
    "    end\n",
    "   \n",
    "    df |> data -> pretty_table(data, backend = :text,\n",
    "         table_format = TextTableFormat(borders = text_table_borders__compact))\n",
    "end"
   ]
  },
  {
   "cell_type": "markdown",
   "id": "9c06d2c5",
   "metadata": {},
   "source": [
    "### Update the flux bounds array\n",
    "Now that we have the reversibility parameters and the maximum reaction velocities, we can update the flux bounds for each reaction in our model of the Urea cycle. "
   ]
  },
  {
   "cell_type": "code",
   "execution_count": 7,
   "id": "a4d1c813",
   "metadata": {},
   "outputs": [],
   "source": [
    "fluxbounds = let\n",
    "    \n",
    "    # alias the model for clarity\n",
    "    model = primal_model;\n",
    "\n",
    "    # update the flux bounds -\n",
    "    fluxbounds = model.fluxbounds;\n",
    "    names = model.reactions;\n",
    "    for i ∈ eachindex(names)\n",
    "        name = names[i]; # get the reaction name for reaction i -\n",
    "    \n",
    "        # check: do we have an exchange flux? If so: skip\n",
    "        if (contains(name, \"b\") == true)\n",
    "            continue;\n",
    "        end\n",
    "        \n",
    "        VMax = maximum_reaction_velocity_dictionary[name]; # what is the maximum velocity for this reaction?\n",
    "        δᵢ = reversibility_parameter_dictionary[name]; # what is the reversibility parameter for this reaction?\n",
    "    \n",
    "        # update the bounds\n",
    "        fluxbounds[i,1] = -δᵢ*VMax; # lower bound (negative for reversible reactions)\n",
    "        fluxbounds[i,2] = VMax; # upper bound\n",
    "    end\n",
    "\n",
    "    # return -\n",
    "    fluxbounds;\n",
    "end;"
   ]
  },
  {
   "cell_type": "code",
   "execution_count": 8,
   "id": "5f586936-908c-4b82-ac20-4b49a57e9572",
   "metadata": {},
   "outputs": [],
   "source": [
    "primal_model.fluxbounds = fluxbounds; # update the model with the new flux bounds"
   ]
  },
  {
   "cell_type": "markdown",
   "id": "5268cd52",
   "metadata": {},
   "source": [
    "### Update the objective function\n",
    "Finally, let's update the objective function of our model. By default, all the elements of the objective function are set to `0.0`. Update the objective function to _maximize_ the export of  `Urea` from the system. \n",
    "\n",
    "`TODO`: Fill in the missing elements in the code block below to complete this task:"
   ]
  },
  {
   "cell_type": "code",
   "execution_count": 9,
   "id": "2c7096c9",
   "metadata": {},
   "outputs": [],
   "source": [
    "objective = primal_model.objective;\n",
    "reaction_to_maximize = \"b4\"; # TODO: specify the reaction to maximize (use the reaction name)\n",
    "findfirst(x-> x==reaction_to_maximize, primal_model.reactions) |> i -> objective[i] = -1; # TODO: why negative?"
   ]
  },
  {
   "cell_type": "markdown",
   "id": "39f9508d",
   "metadata": {},
   "source": [
    "## Task 2: Compute the optimal primal flux distribution\n",
    "Let's compute the optimal metabolic distribution $\\left\\{\\hat{v}_{i} \\mid i = 1,2,\\dots,\\mathcal{R}\\right\\}$ by solving the [linear programming problem](https://en.wikipedia.org/wiki/Linear_programming). We solve the optimization problem by passing the `model::MyPrimalFluxBalanceAnalysisCalculationModel` to [the `solve(...)` method](src/Compute.jl). \n",
    "\n",
    "> __Why the [try-catch environment](https://docs.julialang.org/en/v1/base/base/#try)__? The [solve(...) method](src/Compute.jl) has an [@assert statement](https://docs.julialang.org/en/v1/base/base/#Base.@assert) to check if the calculation has converged. Thus, the solve method will [throw](https://docs.julialang.org/en/v1/base/base/#Core.throw) an [AssertionError](https://docs.julialang.org/en/v1/base/base/#Core.AssertionError) if the optimization problem fails to converge. To gracefully handle this case, we use a [try-catch construct](https://docs.julialang.org/en/v1/base/base/#try). See the [is_solved_and_feasible method from the JuMP package](https://jump.dev/JuMP.jl/stable/api/JuMP/#JuMP.is_solved_and_feasible) for more information.\n",
    "\n",
    "The [`solve(...)` method](src/Compute.jl) returns a `primal_solution::Dict{String, Any}` dictionary containing information about the solution."
   ]
  },
  {
   "cell_type": "code",
   "execution_count": 10,
   "id": "26cf7b71",
   "metadata": {
    "jupyter": {
     "source_hidden": true
    }
   },
   "outputs": [],
   "source": [
    "primal_solution = let\n",
    "    \n",
    "    model = primal_model; # alias the model for clarity\n",
    "    solution = nothing; # initialize nothing for the solution\n",
    "    try\n",
    "        solution = solve(model); # call the solve method with our problem model -\n",
    "    catch error\n",
    "        println(\"error: $(error)\"); # Oops! Looks like we have a major malfunction - the problem didn't solve\n",
    "    end\n",
    "\n",
    "    # return solution\n",
    "    solution\n",
    "end;"
   ]
  },
  {
   "cell_type": "markdown",
   "id": "ee05489a",
   "metadata": {},
   "source": [
    "### Flux table\n",
    "The code block below shows how we constructed the flux table using [the `pretty_tables(...)` method exported by the `PrettyTables.jl` package](https://github.com/ronisbr/PrettyTables.jl).\n",
    "> __Summary__: Each row of the flux table holds information about a reaction in the model. The first column has the reaction name, the second column has the estimated optimal flux value (solution of the FBA problem), and the third column has the reaction string for the flux.\n",
    "\n",
    "So what do we get?"
   ]
  },
  {
   "cell_type": "code",
   "execution_count": 11,
   "id": "6afdc867",
   "metadata": {},
   "outputs": [
    {
     "name": "stdout",
     "output_type": "stream",
     "text": [
      " ------- -------- --------- ----------------------------------------------------------------------------------------------------------------\n",
      " \u001b[1m     i \u001b[0m \u001b[1m   name \u001b[0m \u001b[1m    flux \u001b[0m \u001b[1m                                                                                                       reaction \u001b[0m\n",
      " \u001b[90m Int64 \u001b[0m \u001b[90m String \u001b[0m \u001b[90m Float64 \u001b[0m \u001b[90m                                                                                                         String \u001b[0m\n",
      " ------- -------- --------- ----------------------------------------------------------------------------------------------------------------\n",
      "      1       v1    0.0328   M_ATP_c+M_L-Citrulline_c+M_L-Aspartate_c = M_AMP_c+M_Diphosphate_c+M_N-(L-Arginino)succinate_c\n",
      "      2       v2    0.0328   M_N-(L-Arginino)succinate_c = M_Fumarate_c+M_L-Arginine_c\n",
      "      3       v3    0.0328   M_L-Arginine_c+M_H2O_c = M_L-Ornithine_c+M_Urea_c\n",
      "      4       v4    0.0328   M_Carbamoyl_phosphate_c+M_L-Ornithine_c = M_Orthophosphate_c+M_L-Citrulline_c\n",
      "      5       v5       0.0   2*M_L-Arginine_c+4*M_Oxygen_c+3*M_NADPH_c+3*M_H_c = 2*M_Nitric_oxide_c+2*M_L-Citrulline_c+3*M_NADP_c+4*M_H2O_c\n",
      "      6       b1    0.0328   [] = M_Carbamoyl_phosphate_c\n",
      "      7       b2    0.0328   [] = M_L-Aspartate_c\n",
      "      8       b3   -0.0328   [] = M_Fumarate_c\n",
      "      9       b4   -0.0328   [] = M_Urea_c\n",
      "     10       b5    0.0328   [] = M_ATP_c\n",
      "     11       b6   -0.0328   [] = M_AMP_c\n",
      "     12       b7   -0.0328   [] = M_Diphosphate_c\n",
      "     13       b8   -0.0328   [] = M_Orthophosphate_c\n",
      "     14       b9       0.0   [] = M_Oxygen_c\n",
      "     15      b10       0.0   [] = M_NADPH_c\n",
      "     16      b11       0.0   [] = M_H_c\n",
      "     17      b12       0.0   [] = M_Nitric_oxide_c\n",
      "     18      b13       0.0   [] = M_NADP_c\n",
      "     19      b14    0.0328   [] = M_H2O_c\n",
      " ------- -------- --------- ----------------------------------------------------------------------------------------------------------------\n"
     ]
    }
   ],
   "source": [
    "let\n",
    "\n",
    "    # alias the model and solution for clarity\n",
    "    model = primal_model;\n",
    "    solution = primal_solution;\n",
    "\n",
    "    # initialize -\n",
    "    S = model.S;\n",
    "    flux_bounds_array = model.fluxbounds;\n",
    "    number_of_reactions = size(S,2); # columns\n",
    "    flux = solution[\"argmax\"];\n",
    "    names = model.reactions; # get an array of the names of the reactions (includes exchange)\n",
    "    df = DataFrame();\n",
    "    \n",
    "    # populate the state table -\n",
    "\tfor reaction_index = 1:number_of_reactions\n",
    "        row_df = (\n",
    "            i = reaction_index,\n",
    "            name = names[reaction_index],\n",
    "            flux = flux[reaction_index],\n",
    "            reaction = model.reactions[reaction_index] |> key-> rd[key]\n",
    "        )\n",
    "\n",
    "\t\tpush!(df, row_df)\n",
    "\tend\n",
    "\t\n",
    "\t# write the table -\n",
    "\tpretty_table(df, backend = :text, auto_wrap = true, \n",
    "        alignment_anchor_fallback = :l,\n",
    "        alignment_anchor_regex = [4 => [r\"\"]],\n",
    "        fit_table_in_display_horizontally = false,\n",
    "        fit_table_in_display_vertically = false,\n",
    "        apply_alignment_regex_to_summary_rows = true,\n",
    "        table_format = TextTableFormat(borders = text_table_borders__compact)\n",
    "    );\n",
    "end\n"
   ]
  },
  {
   "cell_type": "code",
   "execution_count": 12,
   "id": "4aeac3b7",
   "metadata": {},
   "outputs": [],
   "source": [
    "do_I_see_the_primal_flux_table = nothing; # TODO: update this flag to {true | false} if the flux table is visible"
   ]
  },
  {
   "cell_type": "markdown",
   "id": "9b3c36bb",
   "metadata": {},
   "source": [
    "## Task 3: Solve the dual problem\n",
    "In this task, we will solve the dual problem associated with our primal flux balance analysis problem. However, there is a wrinkle. The right-hand side of the primal problem is zero, which means we have a special dual problem called the Fenchel dual which takes the form:\n",
    "$$\n",
    "\\boxed{\n",
    "\\begin{align*}\n",
    "\\min_{y,p,q}\\quad& \\mathbf{\\mathcal{U}}^{\\top}\\mathbf{p} - \\mathcal{L}^{\\top}\\mathbf{q}\\\\\n",
    "\\text{subject to}\\quad & \\mathbf{S}^{\\top}\\mathbf{y} + \\mathbf{p} - \\mathbf{q} = \\mathbf{c}\\\\\n",
    "& y_{i}\\text{ free}\\qquad\\forall{i\\in\\mathcal{M}}\\\\\n",
    "& q_{j}\\geq 0\\qquad\\forall{j\\in\\mathcal{R}}\\\\\n",
    "& p_{j}\\geq 0\\qquad\\forall{j\\in\\mathcal{R}}\n",
    "\\end{align*}}\n",
    "$$\n",
    "where $\\mathbf{S}^{\\top}$ is the transpose of the stoichiometric matrix, $\\mathbf{y}\\in\\mathbb{R}^{|\\mathcal{M}|}$ is the vector of dual variables associated with the material balance constraints, $\\mathbf{p}\\in\\mathbb{R}^{|\\mathcal{R}|}$ is the vector of dual variables associated with the upper flux bounds, and $\\mathbf{q}\\in\\mathbb{R}^{|\\mathcal{R}|}$ is the vector of dual variables associated with the lower flux bounds, and $\\mathbf{c}\\in\\mathbb{R}^{|\\mathcal{R}|}$ is the vector of (primal) objective coefficients. \n",
    "\n",
    "We have all the data we need to solve the dual problem, however, we need to make a few changes. Let's start by creating the bounds arrays for the dual problem.\n",
    "> __Dual bounds arrays__: The dual bounds arrays will be a $(2|\\mathcal{R}| + |\\mathcal{M}|) \\times {2}$ array, where each row corresponds to a dual variable, the first column is the lower bound, while the second column corresponds to the upper bound on the dual variables. \n",
    "> \n",
    "> Let's repackage our dual variables into a single array $\\hat{\\mathbf{z}}\\in\\mathbb{R}^{(2|\\mathcal{R}| + |\\mathcal{M}|)}$ such that: $\\hat{\\mathbf{z}} = [\\mathbf{y}; \\mathbf{p}; \\mathbf{q}]$. The first $|\\mathcal{M}|$ elements of $\\hat{\\mathbf{z}}$ correspond to the dual variables associated with the material balance constraints ($\\mathbf{y}$), the next $|\\mathcal{R}|$ elements correspond to the dual variables associated with the upper flux bounds ($\\mathbf{p}$), and the last $|\\mathcal{R}|$ elements correspond to the dual variables associated with the lower flux bounds ($\\mathbf{q}$).\n",
    "\n",
    "Let's build the dual bounds array:"
   ]
  },
  {
   "cell_type": "code",
   "execution_count": 13,
   "id": "ea25dc79",
   "metadata": {},
   "outputs": [
    {
     "ename": "ErrorException",
     "evalue": "TODO: populate the dual bounds array",
     "output_type": "error",
     "traceback": [
      "TODO: populate the dual bounds array\n",
      "\n",
      "Stacktrace:\n",
      " [1] top-level scope\n",
      "   @ ~/Desktop/julia_work/CHEME-5800-Instances/Fall-2025/PS3-CHEME-5800-TEMPLATE-F2025/jl_notebook_cell_df34fa98e69747e1a8f8a730347b8e2f_Y124sZmlsZQ==.jl:15"
     ]
    }
   ],
   "source": [
    "dual_bounds_array = let\n",
    "\n",
    "    # alias the model for clarity\n",
    "    model = primal_model;\n",
    "\n",
    "    # initialize -\n",
    "    S = model.S; # get the stoichiometric matrix\n",
    "    number_of_reactions = size(S,2); # columns |R|\n",
    "    number_of_metabolites = size(S,1); # rows |M|\n",
    "    number_of_dual_variables = 2*number_of_reactions + number_of_metabolites;\n",
    "    dual_bounds_array = zeros(number_of_dual_variables, 2); # initialize the dual bounds array\n",
    "    \n",
    "    # TODO: populate the dual bounds array\n",
    "    # TODO: After you finish populating the dual bounds array, comment out the line below\n",
    "    throw(ErrorException(\"TODO: populate the dual bounds array\"));\n",
    "\n",
    "    dual_bounds_array; # return\n",
    "end;"
   ]
  },
  {
   "cell_type": "markdown",
   "id": "90cf7a7d",
   "metadata": {},
   "source": [
    "Next, we need to build the objective function for the dual problem. The objective function for the dual problem will correspond to the upper and lower flux bounds of the primal problem. However, there's an additional complexity! \n",
    "\n",
    "> __Dual objective function__: The dual objective function will be a $(2|\\mathcal{R}| + |\\mathcal{M}|)$ array, where each element corresponds to a dual variable. The first $|\\mathcal{M}|$ elements of the dual objective will be zero (correspond to $\\mathbf{y}$), the next $|\\mathcal{R}|$ elements will correspond to the upper flux bounds of the primal problem (correspond to $\\mathbf{p}$), and the last $|\\mathcal{R}|$ elements will correspond to the negative of the lower flux bounds of the primal problem (correspond to $\\mathbf{q}$).\n",
    "\n",
    "Let's build the dual objective function array:"
   ]
  },
  {
   "cell_type": "code",
   "execution_count": 14,
   "id": "07ab4b7d",
   "metadata": {},
   "outputs": [
    {
     "ename": "ErrorException",
     "evalue": "TODO: populate the dual objective function array",
     "output_type": "error",
     "traceback": [
      "TODO: populate the dual objective function array\n",
      "\n",
      "Stacktrace:\n",
      " [1] top-level scope\n",
      "   @ ~/Desktop/julia_work/CHEME-5800-Instances/Fall-2025/PS3-CHEME-5800-TEMPLATE-F2025/jl_notebook_cell_df34fa98e69747e1a8f8a730347b8e2f_Y126sZmlsZQ==.jl:16"
     ]
    }
   ],
   "source": [
    "dual_objective_coefficient_array = let\n",
    "\n",
    "    # alias the model for clarity\n",
    "    model = primal_model;\n",
    "\n",
    "    # initialize -\n",
    "    S = model.S; # get the stoichiometric matrix\n",
    "    flux_bounds_array = model.fluxbounds; # get the flux bounds array\n",
    "    number_of_reactions = size(S,2); # columns |R|\n",
    "    number_of_metabolites = size(S,1); # rows |M|\n",
    "    number_of_dual_variables = 2*number_of_reactions + number_of_metabolites;\n",
    "    dual_objective_coefficient_array = zeros(number_of_dual_variables); # initialize the dual objective function array\n",
    "\n",
    "    # TODO: populate the dual objective function array\n",
    "    # TODO: After you populate the dual objective function array, comment out the line below\n",
    "    throw(ErrorException(\"TODO: populate the dual objective function array\"));\n",
    "\n",
    "    dual_objective_coefficient_array; # return\n",
    "end;"
   ]
  },
  {
   "cell_type": "markdown",
   "id": "467520cd",
   "metadata": {},
   "source": [
    "Next, we need to build the constraint matrix for the dual problem. \n",
    "> __Constraint Matrix Dual Problem:__ The constraint matrix for the dual problem will be a block matrix composed of three submatrices. The first submatrix will correspond to the transpose of the stoichiometric matrix of the primal problem, the second submatrix will be an identity matrix of size $|\\mathcal{R}|\\times|\\mathcal{R}|$, and the third submatrix will be a negative identity matrix of size $|\\mathcal{R}|\\times|\\mathcal{R}|$. Thus, the constraint matrix for the dual problem is $[\\mathbf{S}^{\\top}, \\mathbf{I}, -\\mathbf{I}]$.\n",
    "\n",
    "Let's build the dual constraint matrix:"
   ]
  },
  {
   "cell_type": "code",
   "execution_count": 15,
   "id": "cb0d8920",
   "metadata": {},
   "outputs": [
    {
     "ename": "ErrorException",
     "evalue": "TODO: build the block matrix A",
     "output_type": "error",
     "traceback": [
      "TODO: build the block matrix A\n",
      "\n",
      "Stacktrace:\n",
      " [1] top-level scope\n",
      "   @ ~/Desktop/julia_work/CHEME-5800-Instances/Fall-2025/PS3-CHEME-5800-TEMPLATE-F2025/jl_notebook_cell_df34fa98e69747e1a8f8a730347b8e2f_Y131sZmlsZQ==.jl:17"
     ]
    }
   ],
   "source": [
    "A = let\n",
    "\n",
    "    # alias the model for clarity\n",
    "    model = primal_model;\n",
    "\n",
    "    # initialize -\n",
    "    S = model.S; # get the stoichiometric matrix\n",
    "    number_of_reactions = size(S,2); # columns |R|\n",
    "    number_of_metabolites = size(S,1); # rows |M|\n",
    "\n",
    "    # build the block matrix A -\n",
    "    ST = transpose(S) |> Matrix{Float64}; # transpose of the stoichiometric matrix\n",
    "    IR = diagm(0 => ones(number_of_reactions)) # identity matrix for reactions\n",
    "\n",
    "    # TODO: build the block matrix A\n",
    "    # TODO: After you build the block matrix A, comment out the line below\n",
    "    throw(ErrorException(\"TODO: build the block matrix A\"));\n",
    "\n",
    "    A; # return\n",
    "end"
   ]
  },
  {
   "cell_type": "markdown",
   "id": "8e3c9f62",
   "metadata": {},
   "source": [
    "Now, we are ready to set up the dual problem and solve it. We have a type for the dual problem called [the `MyDualFluxBalanceAnalysisCalculationModel` type](src/Types.jl). Let's build one of these objects for our dual problem and store it in the `dual_model::MyDualFluxBalanceAnalysisCalculationModel` variable. \n",
    "\n",
    "> __What's in the dual model?__ The dual model will contain the dual bounds array, the dual objective function array, the dual constraint matrix, and the right-hand side of the dual problem (the objective coefficients of the primal problem). \n",
    "\n",
    "Let's build the dual model, and store it in the `dual_model::MyDualFluxBalanceAnalysisCalculationModel` variable, by calling [a `build(...)` method](src/Factory.jl):"
   ]
  },
  {
   "cell_type": "code",
   "execution_count": 16,
   "id": "f2607a06",
   "metadata": {},
   "outputs": [],
   "source": [
    "# TODO: Build an instance of the dual model using the associated build function\n",
    "dual_model = nothing; # initialize nothing for the dual model"
   ]
  },
  {
   "cell_type": "markdown",
   "id": "23d0068b",
   "metadata": {},
   "source": [
    "Let's solve the dual problem by calling [a `solve(...)` method](src/Compute.jl) with the appropriate problem model instance.\n",
    "\n",
    "> __Why the [try-catch environment](https://docs.julialang.org/en/v1/base/base/#try)__? The [solve(...) method](src/Compute.jl) has an [@assert statement](https://docs.julialang.org/en/v1/base/base/#Base.@assert) to check if the calculation has converged. Thus, the solve method will [throw](https://docs.julialang.org/en/v1/base/base/#Core.throw) an [AssertionError](https://docs.julialang.org/en/v1/base/base/#Core.AssertionError) if the optimization problem fails to converge. To gracefully handle this case, we use a [try-catch construct](https://docs.julialang.org/en/v1/base/base/#try). See the [is_solved_and_feasible method from the JuMP package](https://jump.dev/JuMP.jl/stable/api/JuMP/#JuMP.is_solved_and_feasible) for more information.\n",
    "\n",
    "The [`solve(...)` method](src/Compute.jl) when called with the dual model returns a `dual_solution::Dict{String, Any}` dictionary containing information about the dual solution."
   ]
  },
  {
   "cell_type": "code",
   "execution_count": 17,
   "id": "6ecee0d3",
   "metadata": {},
   "outputs": [
    {
     "ename": "ErrorException",
     "evalue": "TODO: Call the solve function with the dual model",
     "output_type": "error",
     "traceback": [
      "TODO: Call the solve function with the dual model\n",
      "\n",
      "Stacktrace:\n",
      " [1] top-level scope\n",
      "   @ ~/Desktop/julia_work/CHEME-5800-Instances/Fall-2025/PS3-CHEME-5800-TEMPLATE-F2025/jl_notebook_cell_df34fa98e69747e1a8f8a730347b8e2f_Y135sZmlsZQ==.jl:7"
     ]
    }
   ],
   "source": [
    "dual_solution = let\n",
    "    \n",
    "    solution = nothing; # initialize nothing for the solution\n",
    "    \n",
    "    # TODO: Call the solve function with the dual model (don't forget to handle errors with a try-catch block)\n",
    "    # TODO: Comment out the line below after you call the solve function\n",
    "    throw(ErrorException(\"TODO: Call the solve function with the dual model\"));\n",
    "\n",
    "    # return solution\n",
    "    solution\n",
    "end;"
   ]
  },
  {
   "cell_type": "markdown",
   "id": "ed3519be",
   "metadata": {},
   "source": [
    "Let's extract the dual variable values from the `dual_solution::Dict{String, Any}` dictionary that are non-zero. We store the dual variable data in the `non_zero_dual_data::NamedTuple` variable. \n",
    "\n",
    "> __What's in the dual variable NamedTuple?__ We store the non-zero dual variables in the `y`, `p`, and `q` fields of the `non_zero_dual_data::NamedTuple` variable. The indexes of the non-zero dual variables (in the order they appear in the primal problem) are stored in the `i`, `j`, and `k` fields of the `non_zero_dual_data::NamedTuple` variable.\n",
    "\n",
    "Let's extract the non-zero dual variable data:"
   ]
  },
  {
   "cell_type": "code",
   "execution_count": 18,
   "id": "134ecac3",
   "metadata": {},
   "outputs": [
    {
     "ename": "UndefVarError",
     "evalue": "UndefVarError: `dual_solution` not defined in `Main`\nSuggestion: check for spelling errors or missing imports.",
     "output_type": "error",
     "traceback": [
      "UndefVarError: `dual_solution` not defined in `Main`\n",
      "Suggestion: check for spelling errors or missing imports.\n",
      "\n",
      "Stacktrace:\n",
      " [1] top-level scope\n",
      "   @ ~/Desktop/julia_work/CHEME-5800-Instances/Fall-2025/PS3-CHEME-5800-TEMPLATE-F2025/jl_notebook_cell_df34fa98e69747e1a8f8a730347b8e2f_Y140sZmlsZQ==.jl:13"
     ]
    }
   ],
   "source": [
    "non_zero_dual_data = let\n",
    "    \n",
    "    # alias the primal model -\n",
    "    model = primal_model;\n",
    "\n",
    "    # initialize -\n",
    "    S = model.S; # get the stoichiometric matrix\n",
    "    number_of_reactions = size(S,2); # columns |R|\n",
    "    number_of_metabolites = size(S,1); # rows |M|\n",
    "    y = zeros(number_of_metabolites); # initialize\n",
    "    p = zeros(number_of_reactions); # initialize\n",
    "    q = zeros(number_of_reactions); # initialize\n",
    "    z = dual_solution[\"argmin\"]; # get the dual variable values\n",
    "\n",
    "    # process the first |M| dual variables \n",
    "    for i ∈ 1:number_of_metabolites\n",
    "        y[i] = z[i] # y-variables (first |M| dual variables are y-variables)\n",
    "    end\n",
    "\n",
    "    # process the next |R| dual variables\n",
    "    for i ∈ 1:number_of_reactions\n",
    "        p[i] = z[number_of_metabolites + i] # p-variables (next |R| dual variables are p-variables)\n",
    "        q[i] = z[number_of_metabolites + number_of_reactions + i] # q-variables (last |R| dual variables are q-variables)\n",
    "    end\n",
    "   \n",
    "    # extract the non-zero dual variable values and their indices\n",
    "    data = (\n",
    "        y = findall(!iszero, y) |> i -> y[i], # non-zero y-variables\n",
    "        p = findall(!iszero, p) |> i -> p[i], # non-zero p-variables\n",
    "        q = findall(!iszero, q) |> i -> q[i], # non-zero q-variables\n",
    "        i = findall(!iszero, y), # index of non-zero y-variables\n",
    "        j = findall(!iszero, p), # index of non-zero p-variables\n",
    "        k = findall(!iszero, q), # index of non-zero q-variables\n",
    "    );\n",
    "\n",
    "    data # return\n",
    "end;"
   ]
  },
  {
   "cell_type": "markdown",
   "id": "dad849df",
   "metadata": {},
   "source": [
    "### Interpret the dual solution data\n",
    "For this style of primal, the dual solution has the traditional interpretation of measuring the sensitivity of the objective function to changes in the constraints. Thus, we can interpret the dual variables through this lens.\n",
    "\n",
    "> __Interpretation of dual variables__:\n",
    "> \n",
    "> * __Dual vector__ $\\mathbf{y}$: The dual variables associated with the material balance constraints ($\\mathbf{y}$) can be interpreted as the shadow prices of the metabolites in the system, i.e., the change in the objective function per unit change in the availability of a metabolite.\n",
    "> * __Dual vector__ $\\mathbf{p}$: The dual variables associated with the upper flux bounds ($\\mathbf{p}$) can be interpreted as the sensitivity of the objective function to changes in the upper flux bounds, i.e., the change in the objective function per unit change in the upper flux bound of a reaction.\n",
    "> * __Dual vector__ $\\mathbf{q}$: The dual variables associated with the lower flux bounds ($\\mathbf{q}$) can be interpreted as the sensitivity of the objective function to changes in the lower flux bounds, i.e., the change in the objective function per unit change in the lower flux bound of a reaction.\n",
    "\n",
    "Let's dig into what the dual solution is telling us about our urea cycle model."
   ]
  },
  {
   "cell_type": "markdown",
   "id": "b7be12a3",
   "metadata": {},
   "source": [
    "#### Binding metabolite constraints\n",
    "Let's look at the dual variables associated with the material balance constraints ($\\mathbf{y}$). Which metabolites have non-zero dual variables (suggesting the constraints are active)?\n",
    "\n",
    "> __What is an active constraint?__: An active constraint is a constraint that holds as an equality at the optimal solution of an optimization problem. In other words, an active constraint is one that directly influences the optimal solution because it is \"binding\" or \"tight.\" There is no more wiggle room for the solution to move without violating the constraint.\n",
    "\n",
    "What does this tell us about the system?"
   ]
  },
  {
   "cell_type": "code",
   "execution_count": 19,
   "id": "cd2772cf",
   "metadata": {},
   "outputs": [
    {
     "ename": "UndefVarError",
     "evalue": "UndefVarError: `non_zero_dual_data` not defined in `Main`\nSuggestion: check for spelling errors or missing imports.",
     "output_type": "error",
     "traceback": [
      "UndefVarError: `non_zero_dual_data` not defined in `Main`\n",
      "Suggestion: check for spelling errors or missing imports.\n",
      "\n",
      "Stacktrace:\n",
      " [1] top-level scope\n",
      "   @ ~/Desktop/julia_work/CHEME-5800-Instances/Fall-2025/PS3-CHEME-5800-TEMPLATE-F2025/jl_notebook_cell_df34fa98e69747e1a8f8a730347b8e2f_Y143sZmlsZQ==.jl:8"
     ]
    }
   ],
   "source": [
    "let\n",
    "   \n",
    "    # alias the primal model -\n",
    "    model = primal_model;\n",
    "    list_of_species = model.species; # get the species list\n",
    "\n",
    "    # initialize -\n",
    "    y = non_zero_dual_data.y;\n",
    "    i = non_zero_dual_data.i;\n",
    "    df = DataFrame();\n",
    "\n",
    "    # let's make a table of the non-zero y-variables\n",
    "    for index = 1:length(y)\n",
    "\n",
    "        species_index = i[index];\n",
    "        dual_value = y[index];\n",
    "        metabolite = list_of_species[species_index];\n",
    "\n",
    "        row_df = (\n",
    "            species_index = species_index,\n",
    "            dual_value = dual_value,\n",
    "            metabolite = metabolite,\n",
    "        )\n",
    "\n",
    "        push!(df, row_df)\n",
    "    end\n",
    "    \n",
    "    # show the table -\n",
    "    pretty_table(df, backend = :text,\n",
    "         table_format = TextTableFormat(borders = text_table_borders__compact))\n",
    "end"
   ]
  },
  {
   "cell_type": "code",
   "execution_count": 20,
   "id": "983a4a10",
   "metadata": {},
   "outputs": [],
   "source": [
    "do_I_see_the_dual_y_table = nothing; # TODO: update this flag to {true | false} if the dual y-variable table is visible"
   ]
  },
  {
   "cell_type": "markdown",
   "id": "05d075db",
   "metadata": {},
   "source": [
    "#### Binding flux bounds constraints\n",
    "Next, let's look at the dual variables associated with the upper and lower flux bounds ($\\mathbf{p}$ and $\\mathbf{q}$). Which reactions have non-zero dual variables (suggesting the constraints are active)?\n",
    "\n",
    "> __This is a very important result__. The reactions with non-zero dual variables are the rate-limiting steps in the system. These reactions are controlling the flux through the system and are the bottlenecks in the metabolic network. So if we want to increase the flux through the system, we need to focus on these reactions through our metabolic engineering efforts.\n",
    "\n",
    "So what do we see?"
   ]
  },
  {
   "cell_type": "code",
   "execution_count": 21,
   "id": "a5b135ca",
   "metadata": {},
   "outputs": [
    {
     "ename": "UndefVarError",
     "evalue": "UndefVarError: `non_zero_dual_data` not defined in `Main`\nSuggestion: check for spelling errors or missing imports.",
     "output_type": "error",
     "traceback": [
      "UndefVarError: `non_zero_dual_data` not defined in `Main`\n",
      "Suggestion: check for spelling errors or missing imports.\n",
      "\n",
      "Stacktrace:\n",
      " [1] top-level scope\n",
      "   @ ~/Desktop/julia_work/CHEME-5800-Instances/Fall-2025/PS3-CHEME-5800-TEMPLATE-F2025/jl_notebook_cell_df34fa98e69747e1a8f8a730347b8e2f_Y146sZmlsZQ==.jl:9"
     ]
    }
   ],
   "source": [
    "let\n",
    "\n",
    "    # alias the primal model -\n",
    "    model = primal_model;\n",
    "    list_of_reactions = model.reactions; # get the reactions list\n",
    "    v = primal_solution[\"argmax\"]; # get the primal flux values\n",
    "\n",
    "    # initialize -\n",
    "    p = non_zero_dual_data.p;\n",
    "    q = non_zero_dual_data.q;\n",
    "    j = non_zero_dual_data.j;\n",
    "    k = non_zero_dual_data.k;\n",
    "    df_p = DataFrame();\n",
    "    df_q = DataFrame();\n",
    "\n",
    "    # let's make a table of the non-zero p-variables\n",
    "    for index = 1:length(p)\n",
    "\n",
    "        reaction_index = j[index];\n",
    "        dual_value = p[index];\n",
    "        reaction = list_of_reactions[reaction_index];\n",
    "\n",
    "        row_df = (\n",
    "            reaction_index = reaction_index,\n",
    "            dual_value = dual_value,\n",
    "            reaction = reaction,\n",
    "            flux = v[reaction_index],\n",
    "            string = rd[reaction],\n",
    "        )\n",
    "\n",
    "        push!(df_p, row_df)\n",
    "    end\n",
    "\n",
    "    # show the p-variable table -\n",
    "    println(\"Non-zero dual p-variables (associated with upper flux bounds):\")\n",
    "    pretty_table(df_p, backend = :text, fit_table_in_display_horizontally = false,\n",
    "         table_format = TextTableFormat(borders = text_table_borders__compact))\n",
    "\n",
    "    println(\"\\n\"); # space\n",
    "\n",
    "    # let's make a table of the non-zero q-variables\n",
    "    for index = 1:length(q)\n",
    "\n",
    "        reaction_index = k[index];\n",
    "        dual_value = q[index];\n",
    "        reaction = list_of_reactions[reaction_index];\n",
    "\n",
    "        row_df = (\n",
    "            reaction_index = reaction_index,\n",
    "            dual_value = dual_value,\n",
    "            reaction = reaction,\n",
    "            flux = v[reaction_index],\n",
    "            string = rd[reaction],\n",
    "        )\n",
    "\n",
    "        push!(df_q, row_df)\n",
    "    end\n",
    "\n",
    "    # show the q-variable table -\n",
    "    println(\"Non-zero dual q-variables (associated with lower flux bounds):\")\n",
    "    pretty_table(df_q, backend = :text, fit_table_in_display_horizontally = false,\n",
    "         table_format = TextTableFormat(borders = text_table_borders__compact))\n",
    "\n",
    "end"
   ]
  },
  {
   "cell_type": "code",
   "execution_count": 22,
   "id": "5581b4f8",
   "metadata": {},
   "outputs": [],
   "source": [
    "do_I_see_the_p_and_q_tables = nothing; # TODO: update this flag to {true | false} if the dual p- and q-variable tables are visible"
   ]
  },
  {
   "cell_type": "markdown",
   "id": "2fc0093a",
   "metadata": {},
   "source": [
    "__Wow! This is very cool!__ By analyzing the dual solution, we can identify the rate-limiting step(s) in the system and understand how changes in the flux bounds constraints will affect the objective function. \n",
    "\n",
    "While this may seem obvious in our simple model, this is a __powerful technique__ that can be applied to more complex models to identify the rate-limiting steps in the system and understand how changes in the flux bounds constraints will affect the objective function, e.g., in the human metabolic reconstructions (with thousands of reactions):\n",
    "* [Swainston N, Smallbone K, Hefzi H, Dobson PD, Brewer J, Hanscho M, Zielinski DC, Ang KS, Gardiner NJ, Gutierrez JM, Kyriakopoulos S, Lakshmanan M, Li S, Liu JK, Martínez VS, Orellana CA, Quek LE, Thomas A, Zanghellini J, Borth N, Lee DY, Nielsen LK, Kell DB, Lewis NE, Mendes P. Recon 2.2: from reconstruction to model of human metabolism. Metabolomics. 2016;12:109. doi: 10.1007/s11306-016-1051-4. Epub 2016 Jun 7. PMID: 27358602; PMCID: PMC4896983.](https://pubmed.ncbi.nlm.nih.gov/27358602/)\n",
    "* [Brunk E, Sahoo S, Zielinski DC, Altunkaya A, Dräger A, Mih N, Gatto F, Nilsson A, Preciat Gonzalez GA, Aurich MK, Prlić A, Sastry A, Danielsdottir AD, Heinken A, Noronha A, Rose PW, Burley SK, Fleming RMT, Nielsen J, Thiele I, Palsson BO. Recon3D enables a three-dimensional view of gene variation in human metabolism. Nat Biotechnol. 2018 Mar;36(3):272-281. doi: 10.1038/nbt.4072. Epub 2018 Feb 19. PMID: 29457794; PMCID: PMC5840010.](https://pubmed.ncbi.nlm.nih.gov/29457794/)"
   ]
  },
  {
   "cell_type": "markdown",
   "id": "7dc10112",
   "metadata": {},
   "source": [
    "## Discussion Questions\n",
    "Now that we have solved the primal and dual problems, let's explore some interesting questions about our results.\n",
    "\n",
    "### Discussion Question 1: Sensitivity Analysis Using Dual Variables\n",
    "Based on your dual variable analysis, you identified which reactions have non-zero dual variables associated with their upper flux bounds (the **p-variables**). These dual variables represent the sensitivity of the objective function to changes in the maximum reaction velocities ($V_{max}^{\\circ}$).\n",
    "\n",
    "**Question:** If we increased the $V_{max}^{\\circ}$ for reaction v₂ (EC 4.3.2.1, argininosuccinate lyase) by 10%, what would you predict happens to the optimal urea production rate? Use the dual variable information to make this prediction and explain your reasoning. Would this reaction be a good target for metabolic engineering to increase urea production?\n",
    "\n",
    "Run the primal simulation to verify your prediction, report the new optimal urea production rate, and compare it to your prediction."
   ]
  },
  {
   "cell_type": "code",
   "execution_count": 23,
   "id": "730406ba",
   "metadata": {},
   "outputs": [],
   "source": [
    "# TODO: Put your DQ1 answer here"
   ]
  },
  {
   "cell_type": "code",
   "execution_count": 24,
   "id": "c104431a",
   "metadata": {},
   "outputs": [],
   "source": [
    "did_I_answer_DQ1 = nothing; # TODO: update this flag to {true | false} if you answered DQ1"
   ]
  },
  {
   "cell_type": "markdown",
   "id": "bee34ffe",
   "metadata": {},
   "source": [
    "### Discussion Question 2: Metabolic Bottleneck Identification\n",
    "The dual solution provides insights into which constraints are \"active\" or \"binding\" at the optimal solution, effectively identifying the bottlenecks in the metabolic network.\n",
    "\n",
    "**Question:** Which lower bound flux constraint (the **q-variables**) is active in your dual solution? What does this imply about the corresponding reaction in the urea cycle? What happens if you relax this constraint (i.e., decrease the lower bound)? How would this affect the overall flux distribution and urea production?\n",
    "\n",
    "Run the simulation to verify your prediction, report the new optimal urea production rate, and compare it to your prediction."
   ]
  },
  {
   "cell_type": "code",
   "execution_count": 25,
   "id": "99eeef1f",
   "metadata": {},
   "outputs": [],
   "source": [
    "# TODO: Put your DQ2 answer here"
   ]
  },
  {
   "cell_type": "code",
   "execution_count": 26,
   "id": "c6f1f72a",
   "metadata": {},
   "outputs": [],
   "source": [
    "did_I_answer_DQ2 = nothing; # TODO: update this flag to {true | false} if you answered DQ2"
   ]
  },
  {
   "cell_type": "markdown",
   "id": "35c7842e",
   "metadata": {},
   "source": [
    "___"
   ]
  },
  {
   "cell_type": "markdown",
   "id": "626fcc69",
   "metadata": {},
   "source": [
    "## Tests\n",
    "The code block below shows how we implemented the tests and what we are testing. In these tests, we check values in your notebook and give feedback on which items are correct, missing, etc."
   ]
  },
  {
   "cell_type": "code",
   "execution_count": null,
   "id": "ef1de70f",
   "metadata": {
    "jupyter": {
     "source_hidden": true
    }
   },
   "outputs": [
    {
     "name": "stdout",
     "output_type": "stream",
     "text": [
      "Primal Calculation: \u001b[91m\u001b[1mTest Failed\u001b[22m\u001b[39m at \u001b[39m\u001b[1m/Users/jdv27/Desktop/julia_work/CHEME-5800-Instances/Fall-2025/PS3-CHEME-5800-TEMPLATE-F2025/jl_notebook_cell_df34fa98e69747e1a8f8a730347b8e2f_Y163sZmlsZQ==.jl:17\u001b[22m\n",
      "  Expression: do_I_see_the_primal_flux_table == true\n",
      "   Evaluated: nothing == true\n",
      "\n",
      "Stacktrace:\n",
      " [1] \u001b[0m\u001b[1mmacro expansion\u001b[22m\n",
      "\u001b[90m   @\u001b[39m \u001b[90m~/.julia/juliaup/julia-1.11.7+0.aarch64.apple.darwin14/share/julia/stdlib/v1.11/Test/src/\u001b[39m\u001b[90m\u001b[4mTest.jl:680\u001b[24m\u001b[39m\u001b[90m [inlined]\u001b[39m\n",
      " [2] \u001b[0m\u001b[1mmacro expansion\u001b[22m\n",
      "\u001b[90m   @\u001b[39m \u001b[90m~/Desktop/julia_work/CHEME-5800-Instances/Fall-2025/PS3-CHEME-5800-TEMPLATE-F2025/\u001b[39m\u001b[90m\u001b[4mjl_notebook_cell_df34fa98e69747e1a8f8a730347b8e2f_Y163sZmlsZQ==.jl:17\u001b[24m\u001b[39m\u001b[90m [inlined]\u001b[39m\n",
      " [3] \u001b[0m\u001b[1mmacro expansion\u001b[22m\n",
      "\u001b[90m   @\u001b[39m \u001b[90m~/.julia/juliaup/julia-1.11.7+0.aarch64.apple.darwin14/share/julia/stdlib/v1.11/Test/src/\u001b[39m\u001b[90m\u001b[4mTest.jl:1709\u001b[24m\u001b[39m\u001b[90m [inlined]\u001b[39m\n",
      " [4] \u001b[0m\u001b[1mmacro expansion\u001b[22m\n",
      "\u001b[90m   @\u001b[39m \u001b[90m~/Desktop/julia_work/CHEME-5800-Instances/Fall-2025/PS3-CHEME-5800-TEMPLATE-F2025/\u001b[39m\u001b[90m\u001b[4mjl_notebook_cell_df34fa98e69747e1a8f8a730347b8e2f_Y163sZmlsZQ==.jl:16\u001b[24m\u001b[39m\u001b[90m [inlined]\u001b[39m\n",
      " [5] \u001b[0m\u001b[1mmacro expansion\u001b[22m\n",
      "\u001b[90m   @\u001b[39m \u001b[90m~/.julia/juliaup/julia-1.11.7+0.aarch64.apple.darwin14/share/julia/stdlib/v1.11/Test/src/\u001b[39m\u001b[90m\u001b[4mTest.jl:1709\u001b[24m\u001b[39m\u001b[90m [inlined]\u001b[39m\n",
      " [6] top-level scope\n",
      "\u001b[90m   @\u001b[39m \u001b[90m~/Desktop/julia_work/CHEME-5800-Instances/Fall-2025/PS3-CHEME-5800-TEMPLATE-F2025/\u001b[39m\u001b[90m\u001b[4mjl_notebook_cell_df34fa98e69747e1a8f8a730347b8e2f_Y163sZmlsZQ==.jl:3\u001b[24m\u001b[39m\n",
      "Dual Calculation: \u001b[91m\u001b[1mTest Failed\u001b[22m\u001b[39m at \u001b[39m\u001b[1m/Users/jdv27/Desktop/julia_work/CHEME-5800-Instances/Fall-2025/PS3-CHEME-5800-TEMPLATE-F2025/jl_notebook_cell_df34fa98e69747e1a8f8a730347b8e2f_Y163sZmlsZQ==.jl:21\u001b[22m\n",
      "  Expression: isnothing(dual_model) == false\n",
      "   Evaluated: true == false\n",
      "\n",
      "Stacktrace:\n",
      " [1] \u001b[0m\u001b[1mmacro expansion\u001b[22m\n",
      "\u001b[90m   @\u001b[39m \u001b[90m~/.julia/juliaup/julia-1.11.7+0.aarch64.apple.darwin14/share/julia/stdlib/v1.11/Test/src/\u001b[39m\u001b[90m\u001b[4mTest.jl:680\u001b[24m\u001b[39m\u001b[90m [inlined]\u001b[39m\n",
      " [2] \u001b[0m\u001b[1mmacro expansion\u001b[22m\n",
      "\u001b[90m   @\u001b[39m \u001b[90m~/Desktop/julia_work/CHEME-5800-Instances/Fall-2025/PS3-CHEME-5800-TEMPLATE-F2025/\u001b[39m\u001b[90m\u001b[4mjl_notebook_cell_df34fa98e69747e1a8f8a730347b8e2f_Y163sZmlsZQ==.jl:21\u001b[24m\u001b[39m\u001b[90m [inlined]\u001b[39m\n",
      " [3] \u001b[0m\u001b[1mmacro expansion\u001b[22m\n",
      "\u001b[90m   @\u001b[39m \u001b[90m~/.julia/juliaup/julia-1.11.7+0.aarch64.apple.darwin14/share/julia/stdlib/v1.11/Test/src/\u001b[39m\u001b[90m\u001b[4mTest.jl:1709\u001b[24m\u001b[39m\u001b[90m [inlined]\u001b[39m\n",
      " [4] \u001b[0m\u001b[1mmacro expansion\u001b[22m\n",
      "\u001b[90m   @\u001b[39m \u001b[90m~/Desktop/julia_work/CHEME-5800-Instances/Fall-2025/PS3-CHEME-5800-TEMPLATE-F2025/\u001b[39m\u001b[90m\u001b[4mjl_notebook_cell_df34fa98e69747e1a8f8a730347b8e2f_Y163sZmlsZQ==.jl:21\u001b[24m\u001b[39m\u001b[90m [inlined]\u001b[39m\n",
      " [5] \u001b[0m\u001b[1mmacro expansion\u001b[22m\n",
      "\u001b[90m   @\u001b[39m \u001b[90m~/.julia/juliaup/julia-1.11.7+0.aarch64.apple.darwin14/share/julia/stdlib/v1.11/Test/src/\u001b[39m\u001b[90m\u001b[4mTest.jl:1709\u001b[24m\u001b[39m\u001b[90m [inlined]\u001b[39m\n",
      " [6] top-level scope\n",
      "\u001b[90m   @\u001b[39m \u001b[90m~/Desktop/julia_work/CHEME-5800-Instances/Fall-2025/PS3-CHEME-5800-TEMPLATE-F2025/\u001b[39m\u001b[90m\u001b[4mjl_notebook_cell_df34fa98e69747e1a8f8a730347b8e2f_Y163sZmlsZQ==.jl:3\u001b[24m\u001b[39m\n",
      "Dual Calculation: \u001b[91m\u001b[1mError During Test\u001b[22m\u001b[39m at \u001b[39m\u001b[1m/Users/jdv27/Desktop/julia_work/CHEME-5800-Instances/Fall-2025/PS3-CHEME-5800-TEMPLATE-F2025/jl_notebook_cell_df34fa98e69747e1a8f8a730347b8e2f_Y163sZmlsZQ==.jl:22\u001b[22m\n",
      "  Test threw exception\n",
      "  Expression: isnothing(dual_solution) == false\n",
      "  UndefVarError: `dual_solution` not defined in `Main`\n",
      "  Suggestion: check for spelling errors or missing imports.\n",
      "  Stacktrace:\n",
      "   [1] \u001b[0m\u001b[1mmacro expansion\u001b[22m\n",
      "  \u001b[90m   @\u001b[39m \u001b[90m~/.julia/juliaup/julia-1.11.7+0.aarch64.apple.darwin14/share/julia/stdlib/v1.11/Test/src/\u001b[39m\u001b[90m\u001b[4mTest.jl:677\u001b[24m\u001b[39m\u001b[90m [inlined]\u001b[39m\n",
      "   [2] \u001b[0m\u001b[1mmacro expansion\u001b[22m\n",
      "  \u001b[90m   @\u001b[39m \u001b[90m~/Desktop/julia_work/CHEME-5800-Instances/Fall-2025/PS3-CHEME-5800-TEMPLATE-F2025/\u001b[39m\u001b[90m\u001b[4mjl_notebook_cell_df34fa98e69747e1a8f8a730347b8e2f_Y163sZmlsZQ==.jl:22\u001b[24m\u001b[39m\u001b[90m [inlined]\u001b[39m\n",
      "   [3] \u001b[0m\u001b[1mmacro expansion\u001b[22m\n",
      "  \u001b[90m   @\u001b[39m \u001b[90m~/.julia/juliaup/julia-1.11.7+0.aarch64.apple.darwin14/share/julia/stdlib/v1.11/Test/src/\u001b[39m\u001b[90m\u001b[4mTest.jl:1709\u001b[24m\u001b[39m\u001b[90m [inlined]\u001b[39m\n",
      "   [4] \u001b[0m\u001b[1mmacro expansion\u001b[22m\n",
      "  \u001b[90m   @\u001b[39m \u001b[90m~/Desktop/julia_work/CHEME-5800-Instances/Fall-2025/PS3-CHEME-5800-TEMPLATE-F2025/\u001b[39m\u001b[90m\u001b[4mjl_notebook_cell_df34fa98e69747e1a8f8a730347b8e2f_Y163sZmlsZQ==.jl:21\u001b[24m\u001b[39m\u001b[90m [inlined]\u001b[39m\n",
      "   [5] \u001b[0m\u001b[1mmacro expansion\u001b[22m\n",
      "  \u001b[90m   @\u001b[39m \u001b[90m~/.julia/juliaup/julia-1.11.7+0.aarch64.apple.darwin14/share/julia/stdlib/v1.11/Test/src/\u001b[39m\u001b[90m\u001b[4mTest.jl:1709\u001b[24m\u001b[39m\u001b[90m [inlined]\u001b[39m\n",
      "   [6] top-level scope\n",
      "  \u001b[90m   @\u001b[39m \u001b[90m~/Desktop/julia_work/CHEME-5800-Instances/Fall-2025/PS3-CHEME-5800-TEMPLATE-F2025/\u001b[39m\u001b[90m\u001b[4mjl_notebook_cell_df34fa98e69747e1a8f8a730347b8e2f_Y163sZmlsZQ==.jl:3\u001b[24m\u001b[39m\n",
      "Dual Calculation: \u001b[91m\u001b[1mError During Test\u001b[22m\u001b[39m at \u001b[39m\u001b[1m/Users/jdv27/Desktop/julia_work/CHEME-5800-Instances/Fall-2025/PS3-CHEME-5800-TEMPLATE-F2025/jl_notebook_cell_df34fa98e69747e1a8f8a730347b8e2f_Y163sZmlsZQ==.jl:23\u001b[22m\n",
      "  Test threw exception\n",
      "  Expression: isempty(dual_solution) == false\n",
      "  UndefVarError: `dual_solution` not defined in `Main`\n",
      "  Suggestion: check for spelling errors or missing imports.\n",
      "  Stacktrace:\n",
      "   [1] \u001b[0m\u001b[1mmacro expansion\u001b[22m\n",
      "  \u001b[90m   @\u001b[39m \u001b[90m~/.julia/juliaup/julia-1.11.7+0.aarch64.apple.darwin14/share/julia/stdlib/v1.11/Test/src/\u001b[39m\u001b[90m\u001b[4mTest.jl:677\u001b[24m\u001b[39m\u001b[90m [inlined]\u001b[39m\n",
      "   [2] \u001b[0m\u001b[1mmacro expansion\u001b[22m\n",
      "  \u001b[90m   @\u001b[39m \u001b[90m~/Desktop/julia_work/CHEME-5800-Instances/Fall-2025/PS3-CHEME-5800-TEMPLATE-F2025/\u001b[39m\u001b[90m\u001b[4mjl_notebook_cell_df34fa98e69747e1a8f8a730347b8e2f_Y163sZmlsZQ==.jl:23\u001b[24m\u001b[39m\u001b[90m [inlined]\u001b[39m\n",
      "   [3] \u001b[0m\u001b[1mmacro expansion\u001b[22m\n",
      "  \u001b[90m   @\u001b[39m \u001b[90m~/.julia/juliaup/julia-1.11.7+0.aarch64.apple.darwin14/share/julia/stdlib/v1.11/Test/src/\u001b[39m\u001b[90m\u001b[4mTest.jl:1709\u001b[24m\u001b[39m\u001b[90m [inlined]\u001b[39m\n",
      "   [4] \u001b[0m\u001b[1mmacro expansion\u001b[22m\n",
      "  \u001b[90m   @\u001b[39m \u001b[90m~/Desktop/julia_work/CHEME-5800-Instances/Fall-2025/PS3-CHEME-5800-TEMPLATE-F2025/\u001b[39m\u001b[90m\u001b[4mjl_notebook_cell_df34fa98e69747e1a8f8a730347b8e2f_Y163sZmlsZQ==.jl:21\u001b[24m\u001b[39m\u001b[90m [inlined]\u001b[39m\n",
      "   [5] \u001b[0m\u001b[1mmacro expansion\u001b[22m\n",
      "  \u001b[90m   @\u001b[39m \u001b[90m~/.julia/juliaup/julia-1.11.7+0.aarch64.apple.darwin14/share/julia/stdlib/v1.11/Test/src/\u001b[39m\u001b[90m\u001b[4mTest.jl:1709\u001b[24m\u001b[39m\u001b[90m [inlined]\u001b[39m\n",
      "   [6] top-level scope\n",
      "  \u001b[90m   @\u001b[39m \u001b[90m~/Desktop/julia_work/CHEME-5800-Instances/Fall-2025/PS3-CHEME-5800-TEMPLATE-F2025/\u001b[39m\u001b[90m\u001b[4mjl_notebook_cell_df34fa98e69747e1a8f8a730347b8e2f_Y163sZmlsZQ==.jl:3\u001b[24m\u001b[39m\n",
      "Dual Calculation: \u001b[91m\u001b[1mTest Failed\u001b[22m\u001b[39m at \u001b[39m\u001b[1m/Users/jdv27/Desktop/julia_work/CHEME-5800-Instances/Fall-2025/PS3-CHEME-5800-TEMPLATE-F2025/jl_notebook_cell_df34fa98e69747e1a8f8a730347b8e2f_Y163sZmlsZQ==.jl:24\u001b[22m\n",
      "  Expression: do_I_see_the_dual_y_table == true\n",
      "   Evaluated: nothing == true\n",
      "\n",
      "Stacktrace:\n",
      " [1] \u001b[0m\u001b[1mmacro expansion\u001b[22m\n",
      "\u001b[90m   @\u001b[39m \u001b[90m~/.julia/juliaup/julia-1.11.7+0.aarch64.apple.darwin14/share/julia/stdlib/v1.11/Test/src/\u001b[39m\u001b[90m\u001b[4mTest.jl:680\u001b[24m\u001b[39m\u001b[90m [inlined]\u001b[39m\n",
      " [2] \u001b[0m\u001b[1mmacro expansion\u001b[22m\n",
      "\u001b[90m   @\u001b[39m \u001b[90m~/Desktop/julia_work/CHEME-5800-Instances/Fall-2025/PS3-CHEME-5800-TEMPLATE-F2025/\u001b[39m\u001b[90m\u001b[4mjl_notebook_cell_df34fa98e69747e1a8f8a730347b8e2f_Y163sZmlsZQ==.jl:24\u001b[24m\u001b[39m\u001b[90m [inlined]\u001b[39m\n",
      " [3] \u001b[0m\u001b[1mmacro expansion\u001b[22m\n",
      "\u001b[90m   @\u001b[39m \u001b[90m~/.julia/juliaup/julia-1.11.7+0.aarch64.apple.darwin14/share/julia/stdlib/v1.11/Test/src/\u001b[39m\u001b[90m\u001b[4mTest.jl:1709\u001b[24m\u001b[39m\u001b[90m [inlined]\u001b[39m\n",
      " [4] \u001b[0m\u001b[1mmacro expansion\u001b[22m\n",
      "\u001b[90m   @\u001b[39m \u001b[90m~/Desktop/julia_work/CHEME-5800-Instances/Fall-2025/PS3-CHEME-5800-TEMPLATE-F2025/\u001b[39m\u001b[90m\u001b[4mjl_notebook_cell_df34fa98e69747e1a8f8a730347b8e2f_Y163sZmlsZQ==.jl:21\u001b[24m\u001b[39m\u001b[90m [inlined]\u001b[39m\n",
      " [5] \u001b[0m\u001b[1mmacro expansion\u001b[22m\n",
      "\u001b[90m   @\u001b[39m \u001b[90m~/.julia/juliaup/julia-1.11.7+0.aarch64.apple.darwin14/share/julia/stdlib/v1.11/Test/src/\u001b[39m\u001b[90m\u001b[4mTest.jl:1709\u001b[24m\u001b[39m\u001b[90m [inlined]\u001b[39m\n",
      " [6] top-level scope\n",
      "\u001b[90m   @\u001b[39m \u001b[90m~/Desktop/julia_work/CHEME-5800-Instances/Fall-2025/PS3-CHEME-5800-TEMPLATE-F2025/\u001b[39m\u001b[90m\u001b[4mjl_notebook_cell_df34fa98e69747e1a8f8a730347b8e2f_Y163sZmlsZQ==.jl:3\u001b[24m\u001b[39m\n",
      "Dual Calculation: \u001b[91m\u001b[1mTest Failed\u001b[22m\u001b[39m at \u001b[39m\u001b[1m/Users/jdv27/Desktop/julia_work/CHEME-5800-Instances/Fall-2025/PS3-CHEME-5800-TEMPLATE-F2025/jl_notebook_cell_df34fa98e69747e1a8f8a730347b8e2f_Y163sZmlsZQ==.jl:25\u001b[22m\n",
      "  Expression: do_I_see_the_p_and_q_tables == true\n",
      "   Evaluated: nothing == true\n",
      "\n",
      "Stacktrace:\n",
      " [1] \u001b[0m\u001b[1mmacro expansion\u001b[22m\n",
      "\u001b[90m   @\u001b[39m \u001b[90m~/.julia/juliaup/julia-1.11.7+0.aarch64.apple.darwin14/share/julia/stdlib/v1.11/Test/src/\u001b[39m\u001b[90m\u001b[4mTest.jl:680\u001b[24m\u001b[39m\u001b[90m [inlined]\u001b[39m\n",
      " [2] \u001b[0m\u001b[1mmacro expansion\u001b[22m\n",
      "\u001b[90m   @\u001b[39m \u001b[90m~/Desktop/julia_work/CHEME-5800-Instances/Fall-2025/PS3-CHEME-5800-TEMPLATE-F2025/\u001b[39m\u001b[90m\u001b[4mjl_notebook_cell_df34fa98e69747e1a8f8a730347b8e2f_Y163sZmlsZQ==.jl:25\u001b[24m\u001b[39m\u001b[90m [inlined]\u001b[39m\n",
      " [3] \u001b[0m\u001b[1mmacro expansion\u001b[22m\n",
      "\u001b[90m   @\u001b[39m \u001b[90m~/.julia/juliaup/julia-1.11.7+0.aarch64.apple.darwin14/share/julia/stdlib/v1.11/Test/src/\u001b[39m\u001b[90m\u001b[4mTest.jl:1709\u001b[24m\u001b[39m\u001b[90m [inlined]\u001b[39m\n",
      " [4] \u001b[0m\u001b[1mmacro expansion\u001b[22m\n",
      "\u001b[90m   @\u001b[39m \u001b[90m~/Desktop/julia_work/CHEME-5800-Instances/Fall-2025/PS3-CHEME-5800-TEMPLATE-F2025/\u001b[39m\u001b[90m\u001b[4mjl_notebook_cell_df34fa98e69747e1a8f8a730347b8e2f_Y163sZmlsZQ==.jl:21\u001b[24m\u001b[39m\u001b[90m [inlined]\u001b[39m\n",
      " [5] \u001b[0m\u001b[1mmacro expansion\u001b[22m\n",
      "\u001b[90m   @\u001b[39m \u001b[90m~/.julia/juliaup/julia-1.11.7+0.aarch64.apple.darwin14/share/julia/stdlib/v1.11/Test/src/\u001b[39m\u001b[90m\u001b[4mTest.jl:1709\u001b[24m\u001b[39m\u001b[90m [inlined]\u001b[39m\n",
      " [6] top-level scope\n",
      "\u001b[90m   @\u001b[39m \u001b[90m~/Desktop/julia_work/CHEME-5800-Instances/Fall-2025/PS3-CHEME-5800-TEMPLATE-F2025/\u001b[39m\u001b[90m\u001b[4mjl_notebook_cell_df34fa98e69747e1a8f8a730347b8e2f_Y163sZmlsZQ==.jl:3\u001b[24m\u001b[39m\n",
      "Discussion questions: \u001b[91m\u001b[1mTest Failed\u001b[22m\u001b[39m at \u001b[39m\u001b[1m/Users/jdv27/Desktop/julia_work/CHEME-5800-Instances/Fall-2025/PS3-CHEME-5800-TEMPLATE-F2025/jl_notebook_cell_df34fa98e69747e1a8f8a730347b8e2f_Y163sZmlsZQ==.jl:29\u001b[22m\n",
      "  Expression: did_I_answer_DQ1 == true\n",
      "   Evaluated: nothing == true\n",
      "\n",
      "Stacktrace:\n",
      " [1] \u001b[0m\u001b[1mmacro expansion\u001b[22m\n",
      "\u001b[90m   @\u001b[39m \u001b[90m~/.julia/juliaup/julia-1.11.7+0.aarch64.apple.darwin14/share/julia/stdlib/v1.11/Test/src/\u001b[39m\u001b[90m\u001b[4mTest.jl:680\u001b[24m\u001b[39m\u001b[90m [inlined]\u001b[39m\n",
      " [2] \u001b[0m\u001b[1mmacro expansion\u001b[22m\n",
      "\u001b[90m   @\u001b[39m \u001b[90m~/Desktop/julia_work/CHEME-5800-Instances/Fall-2025/PS3-CHEME-5800-TEMPLATE-F2025/\u001b[39m\u001b[90m\u001b[4mjl_notebook_cell_df34fa98e69747e1a8f8a730347b8e2f_Y163sZmlsZQ==.jl:29\u001b[24m\u001b[39m\u001b[90m [inlined]\u001b[39m\n",
      " [3] \u001b[0m\u001b[1mmacro expansion\u001b[22m\n",
      "\u001b[90m   @\u001b[39m \u001b[90m~/.julia/juliaup/julia-1.11.7+0.aarch64.apple.darwin14/share/julia/stdlib/v1.11/Test/src/\u001b[39m\u001b[90m\u001b[4mTest.jl:1709\u001b[24m\u001b[39m\u001b[90m [inlined]\u001b[39m\n",
      " [4] \u001b[0m\u001b[1mmacro expansion\u001b[22m\n",
      "\u001b[90m   @\u001b[39m \u001b[90m~/Desktop/julia_work/CHEME-5800-Instances/Fall-2025/PS3-CHEME-5800-TEMPLATE-F2025/\u001b[39m\u001b[90m\u001b[4mjl_notebook_cell_df34fa98e69747e1a8f8a730347b8e2f_Y163sZmlsZQ==.jl:29\u001b[24m\u001b[39m\u001b[90m [inlined]\u001b[39m\n",
      " [5] \u001b[0m\u001b[1mmacro expansion\u001b[22m\n",
      "\u001b[90m   @\u001b[39m \u001b[90m~/.julia/juliaup/julia-1.11.7+0.aarch64.apple.darwin14/share/julia/stdlib/v1.11/Test/src/\u001b[39m\u001b[90m\u001b[4mTest.jl:1709\u001b[24m\u001b[39m\u001b[90m [inlined]\u001b[39m\n",
      " [6] top-level scope\n",
      "\u001b[90m   @\u001b[39m \u001b[90m~/Desktop/julia_work/CHEME-5800-Instances/Fall-2025/PS3-CHEME-5800-TEMPLATE-F2025/\u001b[39m\u001b[90m\u001b[4mjl_notebook_cell_df34fa98e69747e1a8f8a730347b8e2f_Y163sZmlsZQ==.jl:3\u001b[24m\u001b[39m\n",
      "Discussion questions: \u001b[91m\u001b[1mTest Failed\u001b[22m\u001b[39m at \u001b[39m\u001b[1m/Users/jdv27/Desktop/julia_work/CHEME-5800-Instances/Fall-2025/PS3-CHEME-5800-TEMPLATE-F2025/jl_notebook_cell_df34fa98e69747e1a8f8a730347b8e2f_Y163sZmlsZQ==.jl:30\u001b[22m\n",
      "  Expression: did_I_answer_DQ2 == true\n",
      "   Evaluated: nothing == true\n",
      "\n",
      "Stacktrace:\n",
      " [1] \u001b[0m\u001b[1mmacro expansion\u001b[22m\n",
      "\u001b[90m   @\u001b[39m \u001b[90m~/.julia/juliaup/julia-1.11.7+0.aarch64.apple.darwin14/share/julia/stdlib/v1.11/Test/src/\u001b[39m\u001b[90m\u001b[4mTest.jl:680\u001b[24m\u001b[39m\u001b[90m [inlined]\u001b[39m\n",
      " [2] \u001b[0m\u001b[1mmacro expansion\u001b[22m\n",
      "\u001b[90m   @\u001b[39m \u001b[90m~/Desktop/julia_work/CHEME-5800-Instances/Fall-2025/PS3-CHEME-5800-TEMPLATE-F2025/\u001b[39m\u001b[90m\u001b[4mjl_notebook_cell_df34fa98e69747e1a8f8a730347b8e2f_Y163sZmlsZQ==.jl:30\u001b[24m\u001b[39m\u001b[90m [inlined]\u001b[39m\n",
      " [3] \u001b[0m\u001b[1mmacro expansion\u001b[22m\n",
      "\u001b[90m   @\u001b[39m \u001b[90m~/.julia/juliaup/julia-1.11.7+0.aarch64.apple.darwin14/share/julia/stdlib/v1.11/Test/src/\u001b[39m\u001b[90m\u001b[4mTest.jl:1709\u001b[24m\u001b[39m\u001b[90m [inlined]\u001b[39m\n",
      " [4] \u001b[0m\u001b[1mmacro expansion\u001b[22m\n",
      "\u001b[90m   @\u001b[39m \u001b[90m~/Desktop/julia_work/CHEME-5800-Instances/Fall-2025/PS3-CHEME-5800-TEMPLATE-F2025/\u001b[39m\u001b[90m\u001b[4mjl_notebook_cell_df34fa98e69747e1a8f8a730347b8e2f_Y163sZmlsZQ==.jl:29\u001b[24m\u001b[39m\u001b[90m [inlined]\u001b[39m\n",
      " [5] \u001b[0m\u001b[1mmacro expansion\u001b[22m\n",
      "\u001b[90m   @\u001b[39m \u001b[90m~/.julia/juliaup/julia-1.11.7+0.aarch64.apple.darwin14/share/julia/stdlib/v1.11/Test/src/\u001b[39m\u001b[90m\u001b[4mTest.jl:1709\u001b[24m\u001b[39m\u001b[90m [inlined]\u001b[39m\n",
      " [6] top-level scope\n",
      "\u001b[90m   @\u001b[39m \u001b[90m~/Desktop/julia_work/CHEME-5800-Instances/Fall-2025/PS3-CHEME-5800-TEMPLATE-F2025/\u001b[39m\u001b[90m\u001b[4mjl_notebook_cell_df34fa98e69747e1a8f8a730347b8e2f_Y163sZmlsZQ==.jl:3\u001b[24m\u001b[39m\n",
      "\u001b[0m\u001b[1mTest Summary:             | \u001b[22m\u001b[32m\u001b[1mPass  \u001b[22m\u001b[39m\u001b[91m\u001b[1mFail  \u001b[22m\u001b[39m\u001b[91m\u001b[1mError  \u001b[22m\u001b[39m\u001b[36m\u001b[1mTotal  \u001b[22m\u001b[39m\u001b[0m\u001b[1mTime\u001b[22m\n",
      "CHEME 5800 L6b Test Suite | \u001b[32m   8  \u001b[39m\u001b[91m   6  \u001b[39m\u001b[91m    2  \u001b[39m\u001b[36m   16  \u001b[39m\u001b[0m1.0s\n",
      "  Setup                   | \u001b[32m   7  \u001b[39m\u001b[91m      \u001b[39m\u001b[91m       \u001b[39m\u001b[36m    7  \u001b[39m\u001b[0m0.2s\n",
      "  Primal Calculation      | \u001b[32m   1  \u001b[39m\u001b[91m   1  \u001b[39m\u001b[91m       \u001b[39m\u001b[36m    2  \u001b[39m\u001b[0m0.7s\n",
      "  Dual Calculation        | \u001b[32m      \u001b[39m\u001b[91m   3  \u001b[39m\u001b[91m    2  \u001b[39m\u001b[36m    5  \u001b[39m\u001b[0m0.1s\n",
      "  Discussion questions    | \u001b[32m      \u001b[39m\u001b[91m   2  \u001b[39m\u001b[91m       \u001b[39m\u001b[36m    2  \u001b[39m\u001b[0m0.0s\n"
     ]
    },
    {
     "ename": "TestSetException",
     "evalue": "Some tests did not pass: 8 passed, 6 failed, 2 errored, 0 broken.",
     "output_type": "error",
     "traceback": [
      "Some tests did not pass: 8 passed, 6 failed, 2 errored, 0 broken.\n",
      "\n",
      "Stacktrace:\n",
      " [1] finish(ts::Test.DefaultTestSet; print_results::Bool)\n",
      "   @ Test ~/.julia/juliaup/julia-1.11.7+0.aarch64.apple.darwin14/share/julia/stdlib/v1.11/Test/src/Test.jl:1259\n",
      " [2] finish(ts::Test.DefaultTestSet)\n",
      "   @ Test ~/.julia/juliaup/julia-1.11.7+0.aarch64.apple.darwin14/share/julia/stdlib/v1.11/Test/src/Test.jl:1234\n",
      " [3] macro expansion\n",
      "   @ ~/.julia/juliaup/julia-1.11.7+0.aarch64.apple.darwin14/share/julia/stdlib/v1.11/Test/src/Test.jl:1725 [inlined]\n",
      " [4] top-level scope\n",
      "   @ ~/Desktop/julia_work/CHEME-5800-Instances/Fall-2025/PS3-CHEME-5800-TEMPLATE-F2025/jl_notebook_cell_df34fa98e69747e1a8f8a730347b8e2f_Y163sZmlsZQ==.jl:3"
     ]
    }
   ],
   "source": [
    "@testset verbose = true \"CHEME 5800 PS3 Test Suite\" begin\n",
    "        \n",
    "    @testset \"Setup\" begin\n",
    "        @test isnothing(primal_model) == false\n",
    "        @test isnothing(rd) == false\n",
    "        @test isnothing(reversibility_parameter_dictionary) == false\n",
    "        @test isnothing(maximum_reaction_velocity_dictionary) == false\n",
    "        @test isnothing(primal_solution) == false\n",
    "\n",
    "        @test isempty(reversibility_parameter_dictionary) == false\n",
    "        @test isempty(maximum_reaction_velocity_dictionary) == false\n",
    "\n",
    "    end\n",
    "\n",
    "    @testset \"Primal Calculation\" begin\n",
    "        @test isempty(primal_solution) == false\n",
    "        @test do_I_see_the_primal_flux_table == true\n",
    "    end\n",
    "\n",
    "    @testset \"Dual Calculation\" begin\n",
    "        @test isnothing(dual_model) == false\n",
    "        @test isnothing(dual_solution) == false\n",
    "        @test isempty(dual_solution) == false\n",
    "        @test do_I_see_the_dual_y_table == true\n",
    "        @test do_I_see_the_p_and_q_tables == true\n",
    "    end\n",
    "    \n",
    "    @testset \"Discussion questions\" begin\n",
    "        @test did_I_answer_DQ1 == true\n",
    "        @test did_I_answer_DQ2 == true\n",
    "    end\n",
    "end;"
   ]
  },
  {
   "cell_type": "markdown",
   "id": "ad9a9cf3",
   "metadata": {},
   "source": [
    "## Biological References\n",
    "1. [Al-Otaibi NAS, Cassoli JS, Martins-de-Souza D, Slater NKH, Rahmoune H. Human leukemia cells (HL-60) proteomic and biological signatures underpinning cryo-damage are differentially modulated by novel cryo-additives. Gigascience. 2019 Mar 1;8(3):giy155. doi: 10.1093/gigascience/giy155. PMID: 30535373; PMCID: PMC6394207.](https://pmc.ncbi.nlm.nih.gov/articles/PMC6394207/)\n",
    "2. [Figarola JL, Weng Y, Lincoln C, Horne D, Rahbar S. Novel dichlorophenyl urea compounds inhibit proliferation of human leukemia HL-60 cells by inducing cell cycle arrest, differentiation and apoptosis. Invest New Drugs. 2012 Aug;30(4):1413-25. doi: 10.1007/s10637-011-9711-8. Epub 2011 Jul 5. PMID: 21728022.](https://pubmed.ncbi.nlm.nih.gov/21728022/)\n",
    "3. [Caldwell RW, Rodriguez PC, Toque HA, Narayanan SP, Caldwell RB. Arginase: A Multifaceted Enzyme Important in Health and Disease. Physiol Rev. 2018 Apr 1;98(2):641-665. doi: 10.1152/physrev.00037.2016. PMID: 29412048; PMCID: PMC5966718.](https://pmc.ncbi.nlm.nih.gov/articles/PMC5966718/)\n",
    "\n",
    "___"
   ]
  },
  {
   "cell_type": "markdown",
   "id": "6e69b06a",
   "metadata": {},
   "source": []
  }
 ],
 "metadata": {
  "kernelspec": {
   "display_name": "Julia 1.11.7",
   "language": "julia",
   "name": "julia-1.11"
  },
  "language_info": {
   "file_extension": ".jl",
   "mimetype": "application/julia",
   "name": "julia",
   "version": "1.11.7"
  }
 },
 "nbformat": 4,
 "nbformat_minor": 5
}
