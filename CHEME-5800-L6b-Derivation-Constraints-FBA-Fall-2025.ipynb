{
 "cells": [
  {
   "cell_type": "markdown",
   "id": "f1aabb4d",
   "metadata": {},
   "source": [
    "# Simplified Species Constraints\n",
    "In the [FBA primer](https://pubmed.ncbi.nlm.nih.gov/20212490/), the material balance constraints were written as $\\mathbf{S}\\hat{\\mathbf{v}} = 0$. This is a simplification; in reality, the material balance constraints are more complex. Let's examine how we arrive at this simplified form.\n",
    "When performing FBA, we typically make three assumptions:\n",
    "* __Steady-state, constant volume__: The biological system (or at least part of it) is in a steady state, and in whole-cell models, the volume of the culture is constant. However, this is not the case in fed-batch cultures; many industrial biotechnology processes operate in fed-batch mode. \n",
    "* __Specific units__: The volume basis for the _intracellular_ species concentrations is in specific units, i.e., per unit cell mass measured in grams dry weight (units: `gDW`). For cell-free systems, the volume basis is the volume of the reactor.\n",
    "* __No transport or dilution terms__: We will assume that there are no physical transport or dilution terms in the material balance equations. This is a simplification, but it is often used in FBA. For example, this assumption is not the case for continuous cell-free systems.\n",
    "\n",
    "## Palsson constraints\n",
    "Let the volume of our system be written in specific units, i.e., $V=B\\bar{V}$, where $B$ is the biomass concentration (units: `gDW/L`) and $\\bar{V}$ is the volume of the culture (units: `L`). The material balance constraints can be simplified by assuming the species in our system are in steady state. To understand this fully, let's expand the accumulation terms:\n",
    "$$\n",
    "\\begin{align*}\n",
    "\\frac{d}{dt}\\left(C_{i}V\\right) &= \\frac{d}{dt}\\left(C_{i}B\\bar{V}\\right)\\\\\n",
    "&= B\\bar{V}\\underbrace{\\left(\\frac{dC_{i}}{dt}\\right)}_{\\text{steady state}\\,=\\,0} + C_{i}B\\underbrace{\\left(\\frac{d\\bar{V}}{dt}\\right)}_{\\text{steady state\\,=\\,0}} + C_{i}\\bar{V}\\left(\\frac{dB}{dt}\\right)\\\\\n",
    "C_{i}\\bar{V}\\left(\\frac{dB}{dt}\\right) & = \\underbrace{\\sum_{s\\in\\mathcal{S}}d_{s}C_{i,s}\\dot{V}_{s}}_{\\text{no transport\\,=\\,0}} + \\sum_{j\\in\\mathcal{R}}\\sigma_{ij}\\hat{v}_{j}V\\\\\n",
    "C_{i}\\bar{V}\\left(\\frac{dB}{dt}\\right) & = \\sum_{j\\in\\mathcal{R}}\\sigma_{ij}\\hat{v}_{j}B\\bar{V}\\\\\n",
    "C_{i}\\underbrace{\\left[\\frac{1}{B}\\left(\\frac{dB}{dt}\\right)\\right]}_{\\text{specific growth rate $\\mu$}} & = \\sum_{j\\in\\mathcal{R}}\\sigma_{ij}\\hat{v}_{j}\\\\\n",
    "C_{i}\\mu & = \\sum_{j\\in\\mathcal{R}}\\sigma_{ij}\\hat{v}_{j}\\\\\n",
    "\\sum_{j\\in\\mathcal{R}}\\sigma_{ij}\\hat{v}_{j} - \\underbrace{C_{i}\\mu}_{\\text{small}\\,\\ll{1}} & = 0\\\\\n",
    "\\sum_{j\\in\\mathcal{R}}\\sigma_{ij}\\hat{v}_{j} & = 0\\quad\\forall{i\\in\\mathcal{M}}\\quad\\blacksquare\n",
    "\\end{align*}\n",
    "$$\n",
    "\n",
    "## Exchange reactions\n",
    "Great! So, does everything in our system have to be at steady state? Not exactly.  \n",
    "* We can think of the system we are studying as an open system, i.e., it can exchange material with its surroundings. Thus, while the components of the system are in steady state, the universe (system + surroundings) as a whole is not.\n",
    "* This is a subtle but essential point to understand. The exchange of material with the surroundings is captured within our three assumptions by writing _hypothetical reactions_ that exchange material with the surroundings. We call these [_exchange reactions_](https://github.com/varnerlab/CHEME-5450-Lectures-Spring-2025/blob/main/lectures/week-5/L5c/docs/figs/Fig-ExchangeReactions.png); this figure was reproduced from [Bordbar et al, 2014](https://pubmed.ncbi.nlm.nih.gov/24987116/).\n",
    "\n",
    "___"
   ]
  },
  {
   "cell_type": "markdown",
   "id": "df779d0a",
   "metadata": {},
   "source": []
  }
 ],
 "metadata": {
  "language_info": {
   "name": "python"
  }
 },
 "nbformat": 4,
 "nbformat_minor": 5
}
